{
 "cells": [
  {
   "cell_type": "markdown",
   "metadata": {},
   "source": [
    "# Hybrid recommendation system: Clustering + Conten-based\n",
    "\n",
    "### Content based algorithm uses similarity between restaurants (review based) to find recommendations\n",
    "### Clustering uses KMeans Clustering to find members closest to centroid\n",
    "\n",
    "### Hybrid algorithm will find the most similar restaurant which belongs to the same cluster"
   ]
  },
  {
   "cell_type": "markdown",
   "metadata": {},
   "source": [
    "### Import necessary modules"
   ]
  },
  {
   "cell_type": "code",
   "execution_count": 2,
   "metadata": {},
   "outputs": [],
   "source": [
    "import pandas as pd\n",
    "import time\n",
    "from IPython.display import display\n",
    "import matplotlib.pyplot as plt\n",
    "import math\n",
    "import numpy as np\n",
    "import seaborn as sns\n",
    "from datetime import datetime\n",
    "from datetime import date\n",
    "from dateutil import parser\n",
    "import collections\n",
    "from nltk.tokenize import sent_tokenize\n",
    "from nltk.tokenize import word_tokenize\n",
    "from nltk.stem import PorterStemmer\n",
    "import re\n",
    "\n",
    "from nltk.corpus import stopwords\n",
    "from tqdm import tqdm\n",
    "from sklearn.metrics.pairwise import cosine_similarity\n",
    "from scipy import spatial\n",
    "from itertools import chain\n",
    "from sklearn.feature_extraction.text import CountVectorizer\n",
    "from sklearn.feature_extraction.text import TfidfVectorizer\n",
    "from sklearn.metrics.pairwise import linear_kernel\n",
    "from itertools import combinations\n",
    "from nltk.tokenize import WordPunctTokenizer\n",
    "\n",
    "from sklearn.cluster import KMeans\n",
    "from sklearn.decomposition import PCA\n",
    "from sklearn.preprocessing import StandardScaler\n",
    "from sklearn.decomposition import TruncatedSVD\n",
    "from sklearn.pipeline import make_pipeline\n",
    "\n",
    "%matplotlib inline"
   ]
  },
  {
   "cell_type": "markdown",
   "metadata": {},
   "source": [
    "### Load Data into three DFs: user, review and restaurant info DFs"
   ]
  },
  {
   "cell_type": "code",
   "execution_count": 3,
   "metadata": {},
   "outputs": [
    {
     "name": "stdout",
     "output_type": "stream",
     "text": [
      "Reading data took 231.35 seconds\n"
     ]
    }
   ],
   "source": [
    "start = time.time()\n",
    "restaurant_info = pd.read_csv(r'\\\\rf3prd431n1\\F$\\Viraj_work\\misc_2\\Data_1\\restaurant_info.csv', low_memory=False)\n",
    "user_info = pd.read_csv(r'\\\\rf3prd431n1\\F$\\Viraj_work\\misc_2\\Data_1\\user_info_for_restaurants.csv',low_memory=False)\n",
    "review_info = pd.read_csv(r'\\\\rf3prd431n1\\F$\\Viraj_work\\misc_2\\Data_1\\review_info_for_restaurants.csv',low_memory=False)\n",
    "done = time.time()\n",
    "elapsed = done-start\n",
    "print('Reading data took {} seconds'.format(round(elapsed, 2)))"
   ]
  },
  {
   "cell_type": "markdown",
   "metadata": {},
   "source": [
    "### Filter the city and delete rest of the files to clean up memory"
   ]
  },
  {
   "cell_type": "code",
   "execution_count": 4,
   "metadata": {},
   "outputs": [],
   "source": [
    "city = 'Phoenix'\n",
    "restaurant_info_city = restaurant_info[restaurant_info.city==city]\n",
    "review_info_city = review_info[review_info.business_id.isin(restaurant_info_city.business_id)]\n",
    "user_info_city = user_info[user_info.user_id.isin(review_info_city.user_id)]\n",
    "#rating_matrix = pd.pivot_table(review_info_city,index=['user_id'],values='stars',columns=['business_id'])\n",
    "\n",
    "del restaurant_info\n",
    "del review_info\n",
    "del user_info"
   ]
  },
  {
   "cell_type": "markdown",
   "metadata": {},
   "source": [
    "### Get information about final DFs"
   ]
  },
  {
   "cell_type": "code",
   "execution_count": 5,
   "metadata": {},
   "outputs": [
    {
     "name": "stdout",
     "output_type": "stream",
     "text": [
      "Following is the information about all the relevant datasets for Phoenix\n",
      "\n",
      "Restaurant Information\n",
      "\n",
      "<class 'pandas.core.frame.DataFrame'>\n",
      "Int64Index: 3999 entries, 2 to 59352\n",
      "Data columns (total 8 columns):\n",
      "Unnamed: 0      3999 non-null int64\n",
      "business_id     3999 non-null object\n",
      "categories      3999 non-null object\n",
      "city            3999 non-null object\n",
      "name            3999 non-null object\n",
      "state           3999 non-null object\n",
      "review_count    3999 non-null int64\n",
      "stars           3999 non-null float64\n",
      "dtypes: float64(1), int64(2), object(5)\n",
      "memory usage: 281.2+ KB\n"
     ]
    },
    {
     "data": {
      "text/plain": [
       "None"
      ]
     },
     "metadata": {},
     "output_type": "display_data"
    },
    {
     "name": "stdout",
     "output_type": "stream",
     "text": [
      "Review Information\n",
      "\n",
      "<class 'pandas.core.frame.DataFrame'>\n",
      "Int64Index: 427491 entries, 10 to 4201639\n",
      "Data columns (total 10 columns):\n",
      "Unnamed: 0     427491 non-null int64\n",
      "business_id    427491 non-null object\n",
      "cool           427491 non-null int64\n",
      "date           427491 non-null object\n",
      "funny          427491 non-null int64\n",
      "review_id      427491 non-null object\n",
      "stars          427491 non-null int64\n",
      "text           427491 non-null object\n",
      "useful         427491 non-null int64\n",
      "user_id        427491 non-null object\n",
      "dtypes: int64(5), object(5)\n",
      "memory usage: 35.9+ MB\n"
     ]
    },
    {
     "data": {
      "text/plain": [
       "None"
      ]
     },
     "metadata": {},
     "output_type": "display_data"
    },
    {
     "name": "stdout",
     "output_type": "stream",
     "text": [
      "User Information\n",
      "\n",
      "<class 'pandas.core.frame.DataFrame'>\n",
      "Int64Index: 155786 entries, 1 to 1148087\n",
      "Data columns (total 23 columns):\n",
      "Unnamed: 0            155786 non-null int64\n",
      "average_stars         155786 non-null float64\n",
      "compliment_cool       155786 non-null int64\n",
      "compliment_cute       155786 non-null int64\n",
      "compliment_funny      155786 non-null int64\n",
      "compliment_hot        155786 non-null int64\n",
      "compliment_list       155786 non-null int64\n",
      "compliment_more       155786 non-null int64\n",
      "compliment_note       155786 non-null int64\n",
      "compliment_photos     155786 non-null int64\n",
      "compliment_plain      155786 non-null int64\n",
      "compliment_profile    155786 non-null int64\n",
      "compliment_writer     155786 non-null int64\n",
      "cool                  155786 non-null int64\n",
      "elite                 10281 non-null object\n",
      "fans                  155786 non-null int64\n",
      "friends               155786 non-null object\n",
      "funny                 155786 non-null int64\n",
      "name                  155786 non-null object\n",
      "review_count          155786 non-null int64\n",
      "useful                155786 non-null int64\n",
      "user_id               155786 non-null object\n",
      "yelping_since         155786 non-null object\n",
      "dtypes: float64(1), int64(17), object(5)\n",
      "memory usage: 28.5+ MB\n"
     ]
    },
    {
     "data": {
      "text/plain": [
       "None"
      ]
     },
     "metadata": {},
     "output_type": "display_data"
    }
   ],
   "source": [
    "print('Following is the information about all the relevant datasets for {}\\n'.format(city))\n",
    "\n",
    "print('Restaurant Information\\n')\n",
    "display(restaurant_info_city.info())\n",
    "\n",
    "print('Review Information\\n')\n",
    "display(review_info_city.info())\n",
    "\n",
    "print('User Information\\n')\n",
    "display(user_info_city.info())"
   ]
  },
  {
   "cell_type": "markdown",
   "metadata": {},
   "source": [
    "### Extract information about cuisines"
   ]
  },
  {
   "cell_type": "code",
   "execution_count": 6,
   "metadata": {},
   "outputs": [
    {
     "data": {
      "text/plain": [
       "2      Breakfast&Brunch Mexican Tacos Tex-Mex FastFood\n",
       "19                                            Chinese \n",
       "35                                          Food Cafes\n",
       "56                                   Mexican SushiBars\n",
       "84                            Pizza Sandwiches Italian\n",
       "Name: categories, dtype: object"
      ]
     },
     "execution_count": 6,
     "metadata": {},
     "output_type": "execute_result"
    }
   ],
   "source": [
    "category_series = restaurant_info_city.categories.str.replace('Restaurants','').str.replace(' ', '').str.replace(',', ' ')\n",
    "category_series.head()"
   ]
  },
  {
   "cell_type": "markdown",
   "metadata": {},
   "source": [
    "### Represent each reveiw as single list of text - needs to be run only once. Review_in_words is saved so that this does not have to happen every time"
   ]
  },
  {
   "cell_type": "code",
   "execution_count": 5,
   "metadata": {},
   "outputs": [
    {
     "name": "stderr",
     "output_type": "stream",
     "text": [
      "100%|███████████████████████████████| 427491/427491 [00:29<00:00, 14537.57it/s]\n",
      "100%|████████████████████████████████| 427491/427491 [4:56:49<00:00, 24.00it/s]\n"
     ]
    }
   ],
   "source": [
    "tqdm.pandas()\n",
    "review = review_info_city['text'].progress_apply(lambda x: re.sub('[^a-zA-Z]', ' ', x).lower().split())\n",
    "ps = PorterStemmer()\n",
    "review_in_words = review.progress_apply(lambda x: [ps.stem(word) for word in x if not word in set(stopwords.words('english'))])"
   ]
  },
  {
   "cell_type": "markdown",
   "metadata": {},
   "source": [
    "### 1. Combine reviews each user in a single space separated text string\n",
    "\n",
    "### 2. Combine reviews for each business in a single space separated text string"
   ]
  },
  {
   "cell_type": "code",
   "execution_count": 7,
   "metadata": {
    "scrolled": true
   },
   "outputs": [
    {
     "data": {
      "text/html": [
       "<div>\n",
       "<style scoped>\n",
       "    .dataframe tbody tr th:only-of-type {\n",
       "        vertical-align: middle;\n",
       "    }\n",
       "\n",
       "    .dataframe tbody tr th {\n",
       "        vertical-align: top;\n",
       "    }\n",
       "\n",
       "    .dataframe thead th {\n",
       "        text-align: right;\n",
       "    }\n",
       "</style>\n",
       "<table border=\"1\" class=\"dataframe\">\n",
       "  <thead>\n",
       "    <tr style=\"text-align: right;\">\n",
       "      <th></th>\n",
       "      <th>text_split</th>\n",
       "      <th>category_text</th>\n",
       "      <th>text_with_categories</th>\n",
       "    </tr>\n",
       "    <tr>\n",
       "      <th>business_id</th>\n",
       "      <th></th>\n",
       "      <th></th>\n",
       "      <th></th>\n",
       "    </tr>\n",
       "  </thead>\n",
       "  <tbody>\n",
       "    <tr>\n",
       "      <th>--g-a85VwrdZJNf0R95GcQ</th>\n",
       "      <td>super  fresh  food  great  price  ala  cart  e...</td>\n",
       "      <td>Breakfast&amp;Brunch Mexican Tacos Tex-Mex FastFood</td>\n",
       "      <td>super  fresh  food  great  price  ala  cart  e...</td>\n",
       "    </tr>\n",
       "    <tr>\n",
       "      <th>-050d_XIor1NpCuWkbIVaQ</th>\n",
       "      <td>good  thing  go  alon  practic  wait  came  go...</td>\n",
       "      <td>Chinese</td>\n",
       "      <td>good  thing  go  alon  practic  wait  came  go...</td>\n",
       "    </tr>\n",
       "    <tr>\n",
       "      <th>-0WegMt6Cy966qlDKhu6jA</th>\n",
       "      <td>guess  surpris  bar  outsid  stadium  great  s...</td>\n",
       "      <td>Food Cafes</td>\n",
       "      <td>guess  surpris  bar  outsid  stadium  great  s...</td>\n",
       "    </tr>\n",
       "    <tr>\n",
       "      <th>-0aIra_B6iALlfqAriBSYA</th>\n",
       "      <td>realli  good  spici  chai  latt  worker  kind ...</td>\n",
       "      <td>Mexican SushiBars</td>\n",
       "      <td>realli  good  spici  chai  latt  worker  kind ...</td>\n",
       "    </tr>\n",
       "    <tr>\n",
       "      <th>-0tgMGl7D9B10YjSN2ujLA</th>\n",
       "      <td>prob  good  place  drink  see  live  music  ma...</td>\n",
       "      <td>Pizza Sandwiches Italian</td>\n",
       "      <td>prob  good  place  drink  see  live  music  ma...</td>\n",
       "    </tr>\n",
       "  </tbody>\n",
       "</table>\n",
       "</div>"
      ],
      "text/plain": [
       "                                                               text_split  \\\n",
       "business_id                                                                 \n",
       "--g-a85VwrdZJNf0R95GcQ  super  fresh  food  great  price  ala  cart  e...   \n",
       "-050d_XIor1NpCuWkbIVaQ  good  thing  go  alon  practic  wait  came  go...   \n",
       "-0WegMt6Cy966qlDKhu6jA  guess  surpris  bar  outsid  stadium  great  s...   \n",
       "-0aIra_B6iALlfqAriBSYA  realli  good  spici  chai  latt  worker  kind ...   \n",
       "-0tgMGl7D9B10YjSN2ujLA  prob  good  place  drink  see  live  music  ma...   \n",
       "\n",
       "                                                           category_text  \\\n",
       "business_id                                                                \n",
       "--g-a85VwrdZJNf0R95GcQ   Breakfast&Brunch Mexican Tacos Tex-Mex FastFood   \n",
       "-050d_XIor1NpCuWkbIVaQ                                          Chinese    \n",
       "-0WegMt6Cy966qlDKhu6jA                                        Food Cafes   \n",
       "-0aIra_B6iALlfqAriBSYA                                 Mexican SushiBars   \n",
       "-0tgMGl7D9B10YjSN2ujLA                          Pizza Sandwiches Italian   \n",
       "\n",
       "                                                     text_with_categories  \n",
       "business_id                                                                \n",
       "--g-a85VwrdZJNf0R95GcQ  super  fresh  food  great  price  ala  cart  e...  \n",
       "-050d_XIor1NpCuWkbIVaQ  good  thing  go  alon  practic  wait  came  go...  \n",
       "-0WegMt6Cy966qlDKhu6jA  guess  surpris  bar  outsid  stadium  great  s...  \n",
       "-0aIra_B6iALlfqAriBSYA  realli  good  spici  chai  latt  worker  kind ...  \n",
       "-0tgMGl7D9B10YjSN2ujLA  prob  good  place  drink  see  live  music  ma...  "
      ]
     },
     "metadata": {},
     "output_type": "display_data"
    },
    {
     "name": "stdout",
     "output_type": "stream",
     "text": [
      "Review text conversion and join took 13.32 seconds\n"
     ]
    }
   ],
   "source": [
    "start = time.time()\n",
    "# Define function to convert string to list back to string\n",
    "def convert_to_string(a):\n",
    "    try:\n",
    "        a_1 = a.split(',') # convert string read to list\n",
    "        a_2 = ' '.join(a_1).replace(\"'\", \"\") # convert list back to string\n",
    "        return a_2\n",
    "    except:\n",
    "        print(a, type(a))\n",
    "\n",
    "review_in_words = pd.read_csv(r'\\\\rf3prd431n1\\F$\\Viraj_work\\misc_2\\Data_1\\review_in_words.csv', low_memory=False, header=None)\n",
    "review_in_words.columns = ['index', 'review_text']\n",
    "review_in_words['review_text'] = review_in_words['review_text'].str.strip(\"[]\")\n",
    "\n",
    "# apply the convert to string function to the review_text and save it as an extra column in the parent review_info_city\n",
    "# Dataframe\n",
    "intermediate_series = review_in_words['review_text'].apply(lambda x: convert_to_string(x))\n",
    "review_info_city['text_split'] = intermediate_series.values\n",
    "\n",
    "#userid_df = review_info_city[['user_id','text_split']]\n",
    "#userid_df = userid_df.groupby('user_id').agg({\"text_split\": \" \".join})\n",
    "\n",
    "business_df = review_info_city[['business_id', 'text_split']]\n",
    "business_df = business_df.groupby('business_id').agg({'text_split': ' '.join})\n",
    "business_df['category_text'] = category_series.values\n",
    "business_df['text_with_categories'] = business_df['text_split']+' '+business_df['category_text']\n",
    "display(business_df.head())\n",
    "\n",
    "done = time.time()\n",
    "elapsed = done-start\n",
    "print('Review text conversion and join took {} seconds'.format(round(elapsed, 2)))"
   ]
  },
  {
   "cell_type": "markdown",
   "metadata": {},
   "source": [
    "### Vectorize the review texts and categories"
   ]
  },
  {
   "cell_type": "code",
   "execution_count": 8,
   "metadata": {},
   "outputs": [
    {
     "name": "stdout",
     "output_type": "stream",
     "text": [
      "Vectorizing took 23.54 seconds\n"
     ]
    }
   ],
   "source": [
    "start = time.time()\n",
    "#Business id vectorizer\n",
    "businessid_vectorizer = TfidfVectorizer(tokenizer = WordPunctTokenizer().tokenize, max_features=1000)\n",
    "businessid_vectors = businessid_vectorizer.fit_transform(business_df['text_with_categories'])\n",
    "done = time.time()\n",
    "elapsed = done-start\n",
    "print('Vectorizing took {} seconds'.format(round(elapsed, 2)))"
   ]
  },
  {
   "cell_type": "markdown",
   "metadata": {},
   "source": [
    "### Visualize PCA by converting feature sparse matrix to array"
   ]
  },
  {
   "cell_type": "code",
   "execution_count": 9,
   "metadata": {
    "scrolled": false
   },
   "outputs": [
    {
     "data": {
      "image/png": "[encoded data removed]",
      "text/plain": [
       "<Figure size 1152x576 with 1 Axes>"
      ]
     },
     "metadata": {
      "needs_background": "light"
     },
     "output_type": "display_data"
    }
   ],
   "source": [
    "#type(businessid_vectors)\n",
    "business_std = StandardScaler(with_mean=False).fit_transform(businessid_vectors.toarray())\n",
    "pca = PCA(n_components=41)\n",
    "principalComponents = pca.fit_transform(business_std)\n",
    "features = range(pca.n_components_)\n",
    "fig, ax = plt.subplots()\n",
    "fig.set_figheight(8)\n",
    "fig.set_figwidth(16)\n",
    "plt.bar(features, pca.explained_variance_ratio_, color='black')\n",
    "plt.xlabel('PCA features')\n",
    "plt.ylabel('variance %')\n",
    "plt.xticks(features)\n",
    "plt.show()\n",
    "PCA_components = pd.DataFrame(principalComponents)"
   ]
  },
  {
   "cell_type": "markdown",
   "metadata": {},
   "source": [
    "### Investigate inertia\n",
    "\n",
    "Ideally, the way K Means works, is that we want to divide the data into fewest clusters. However, in this case, that is not necessarily the case, since we want to make sure that we get the closest resemblance between restaurants to make the best recommendation.\n",
    "\n",
    "Hence if we use the elbow method, the choice of n_clusters would be ~3. But in our case, we want to minimize the inertia as much as possible. Hence, we will choose n-clusters where the intertia starts to flatten out. For this purpose, we picked n-clusters to be 6"
   ]
  },
  {
   "cell_type": "code",
   "execution_count": 10,
   "metadata": {
    "scrolled": false
   },
   "outputs": [
    {
     "data": {
      "image/png": "[encoded data removed]",
      "text/plain": [
       "<Figure size 1152x576 with 1 Axes>"
      ]
     },
     "metadata": {
      "needs_background": "light"
     },
     "output_type": "display_data"
    }
   ],
   "source": [
    "ks = range(1, 41)\n",
    "inertias = []\n",
    "for k in ks:\n",
    "    # Create a KMeans instance with k clusters: model\n",
    "    model = KMeans(n_clusters=k)\n",
    "    \n",
    "    # Fit model to samples\n",
    "    model.fit(PCA_components.iloc[:,:2])\n",
    "    \n",
    "    # Append the inertia to the list of inertias\n",
    "    inertias.append(model.inertia_)\n",
    "\n",
    "fig, ax = plt.subplots()\n",
    "fig.set_figheight(8)\n",
    "fig.set_figwidth(16) \n",
    "plt.plot(ks, inertias, '-o', color='black')\n",
    "plt.xlabel('number of clusters, k')\n",
    "plt.ylabel('inertia')\n",
    "plt.xticks(ks)\n",
    "plt.show()"
   ]
  },
  {
   "cell_type": "code",
   "execution_count": 11,
   "metadata": {},
   "outputs": [],
   "source": [
    "from collections import defaultdict\n",
    "model_final = KMeans(n_clusters=100, random_state=42)\n",
    "cluster_vals = model_final.fit_predict(PCA_components.iloc[:,:40])\n",
    "PCA_components_w_clusters = PCA_components.iloc[:,:40]\n",
    "PCA_components_w_clusters['name'] = restaurant_info_city.name.values\n",
    "PCA_components_w_clusters['cluster'] = cluster_vals\n",
    "rest_dict = defaultdict()\n",
    "for counter in PCA_components_w_clusters.cluster.unique():\n",
    "    inter_df = PCA_components_w_clusters[PCA_components_w_clusters.cluster==counter]\n",
    "    d = model_final.transform(inter_df.iloc[:,0:40].to_numpy())[:, counter]\n",
    "    rest_dict[counter] = np.argsort(d)[::][:]\n",
    "    rest_dict[counter] = restaurant_info_city.name.iloc[np.argsort(d)[::-1][:]].values"
   ]
  },
  {
   "cell_type": "code",
   "execution_count": 12,
   "metadata": {
    "scrolled": true
   },
   "outputs": [
    {
     "data": {
      "text/plain": [
       "0    [Five Guys, JP's Dog House, Nee House Chinese ...\n",
       "1    [Subway, Olives Mediterranean Grill, Sam's Gyr...\n",
       "2    [Tacos Chiwas, Mornin' Moonshine, Sam's Gyros,...\n",
       "3    [Songbird Coffee & Tea House, 12 East Cafe, Ma...\n",
       "4    [Bomberos Cafe & Wine Bar, O'Briens Sports Pub...\n",
       "5    [Long Wong's Famous Wings, Oregano's Pizza Bis...\n",
       "6    [Birrieria Obregon, Armadillo Grill, O'Briens ...\n",
       "7    [Chick-fil-A, Nee House Chinese Restaurant, Ch...\n",
       "8    [Tacos Chiwas, Smashburger, 12 East Cafe, Vals...\n",
       "9    [Birrieria Obregon, Deemos American Grill, Fiv...\n",
       "Name: cluster, dtype: object"
      ]
     },
     "metadata": {},
     "output_type": "display_data"
    }
   ],
   "source": [
    "cluster_recommendations_df = PCA_components_w_clusters.cluster.map(rest_dict)\n",
    "display(cluster_recommendations_df.head(10))"
   ]
  },
  {
   "cell_type": "markdown",
   "metadata": {},
   "source": [
    "### Vectorize with categories only"
   ]
  },
  {
   "cell_type": "code",
   "execution_count": 13,
   "metadata": {},
   "outputs": [
    {
     "name": "stdout",
     "output_type": "stream",
     "text": [
      "Vectorizing took 23.94 seconds\n"
     ]
    }
   ],
   "source": [
    "start = time.time()\n",
    "#Business id vectorizer\n",
    "businessid_vectorizer = TfidfVectorizer(tokenizer = WordPunctTokenizer().tokenize, max_features=5000)\n",
    "businessid_vectors = businessid_vectorizer.fit_transform(business_df['text_with_categories'])\n",
    "done = time.time()\n",
    "elapsed = done-start\n",
    "print('Vectorizing took {} seconds'.format(round(elapsed, 2)))"
   ]
  },
  {
   "cell_type": "markdown",
   "metadata": {},
   "source": [
    "### Get the cosine similarity matrix using Linear Kernel and extract the best cosine-similaries to a particular restaurant - those are the restaurants which are most similar to subject"
   ]
  },
  {
   "cell_type": "code",
   "execution_count": 14,
   "metadata": {},
   "outputs": [
    {
     "name": "stderr",
     "output_type": "stream",
     "text": [
      "100%|██████████████████████████████████████| 3999/3999 [29:12<00:00,  1.73it/s]\n"
     ]
    }
   ],
   "source": [
    "cosine_sim = linear_kernel(businessid_vectors, businessid_vectors)\n",
    "rest_11 = ['rest' + str(i) for i in range(1,1001)]\n",
    "final_df = pd.DataFrame(columns=rest_11)\n",
    "for ctr in tqdm(range(len(cosine_sim))):\n",
    "    sim_scores=[]\n",
    "    for i,j in enumerate(cosine_sim[ctr]):\n",
    "        k=restaurant_info_city['stars'].iloc[i]\n",
    "        sim_scores.append((restaurant_info_city['name'].iloc[i],j,k))\n",
    "    sim_scores = sorted(sim_scores, key=lambda x: (x[1],x[2]) , reverse=True)  \n",
    "\n",
    "    a_series = pd.Series(sim_scores[0:1000], index=rest_11)\n",
    "    final_df = final_df.append(a_series, ignore_index=True)"
   ]
  },
  {
   "cell_type": "code",
   "execution_count": 15,
   "metadata": {},
   "outputs": [
    {
     "data": {
      "text/html": [
       "<div>\n",
       "<style scoped>\n",
       "    .dataframe tbody tr th:only-of-type {\n",
       "        vertical-align: middle;\n",
       "    }\n",
       "\n",
       "    .dataframe tbody tr th {\n",
       "        vertical-align: top;\n",
       "    }\n",
       "\n",
       "    .dataframe thead th {\n",
       "        text-align: right;\n",
       "    }\n",
       "</style>\n",
       "<table border=\"1\" class=\"dataframe\">\n",
       "  <thead>\n",
       "    <tr style=\"text-align: right;\">\n",
       "      <th></th>\n",
       "      <th>rest1</th>\n",
       "      <th>rest2</th>\n",
       "      <th>rest3</th>\n",
       "      <th>rest4</th>\n",
       "      <th>rest5</th>\n",
       "      <th>rest6</th>\n",
       "      <th>rest7</th>\n",
       "      <th>rest8</th>\n",
       "      <th>rest9</th>\n",
       "      <th>rest10</th>\n",
       "      <th>...</th>\n",
       "      <th>rest991</th>\n",
       "      <th>rest992</th>\n",
       "      <th>rest993</th>\n",
       "      <th>rest994</th>\n",
       "      <th>rest995</th>\n",
       "      <th>rest996</th>\n",
       "      <th>rest997</th>\n",
       "      <th>rest998</th>\n",
       "      <th>rest999</th>\n",
       "      <th>rest1000</th>\n",
       "    </tr>\n",
       "    <tr>\n",
       "      <th>name</th>\n",
       "      <th></th>\n",
       "      <th></th>\n",
       "      <th></th>\n",
       "      <th></th>\n",
       "      <th></th>\n",
       "      <th></th>\n",
       "      <th></th>\n",
       "      <th></th>\n",
       "      <th></th>\n",
       "      <th></th>\n",
       "      <th></th>\n",
       "      <th></th>\n",
       "      <th></th>\n",
       "      <th></th>\n",
       "      <th></th>\n",
       "      <th></th>\n",
       "      <th></th>\n",
       "      <th></th>\n",
       "      <th></th>\n",
       "      <th></th>\n",
       "      <th></th>\n",
       "    </tr>\n",
       "  </thead>\n",
       "  <tbody>\n",
       "    <tr>\n",
       "      <th>Taco Bell</th>\n",
       "      <td>(Taco Bell, 1.0, 3.0)</td>\n",
       "      <td>(Seed Cafe, 0.7520659501038904, 4.5)</td>\n",
       "      <td>(Stacy's Off Da Hook BBQ and Soul Food, 0.7508...</td>\n",
       "      <td>(Szechwan Palace, 0.7320203793764878, 3.5)</td>\n",
       "      <td>(Morton's The Steakhouse, 0.7311922759810161, ...</td>\n",
       "      <td>(Barro's Pizza, 0.7168385493796043, 3.5)</td>\n",
       "      <td>(Frank's New York Style Deli, 0.71522078680343...</td>\n",
       "      <td>(Tacos Trafi Catering, 0.7149916650693801, 5.0)</td>\n",
       "      <td>(El Sabroso Hot Dog, 0.7139666910781737, 3.5)</td>\n",
       "      <td>(Sauce Pizza &amp; Wine, 0.710440240150113, 4.0)</td>\n",
       "      <td>...</td>\n",
       "      <td>(Drip Coffee Lounge, 0.3182838535632037, 3.5)</td>\n",
       "      <td>(Steak 44, 0.3182047603702458, 4.5)</td>\n",
       "      <td>(Katz Delicatessen &amp; Sandwich Shop, 0.31816532...</td>\n",
       "      <td>(Flaming Wok, 0.3180882206658734, 4.0)</td>\n",
       "      <td>(Yu's Cafe, 0.31805401067240596, 3.5)</td>\n",
       "      <td>(Canam Realty Group, 0.31795317294894543, 3.0)</td>\n",
       "      <td>(Meatballz, 0.3179461976215755, 2.5)</td>\n",
       "      <td>(Zoes Kitchen, 0.3178571008167459, 3.5)</td>\n",
       "      <td>(Ric's Smokehouse BBQ &amp; Grill, 0.3177267261075...</td>\n",
       "      <td>(Marcelo Delivers, 0.31756868813724337, 4.0)</td>\n",
       "    </tr>\n",
       "    <tr>\n",
       "      <th>Nee House Chinese Restaurant</th>\n",
       "      <td>(Nee House Chinese Restaurant, 0.9999999999999...</td>\n",
       "      <td>(Huss Brewing Co - Uptown Taproom, 0.947315188...</td>\n",
       "      <td>(Carl's Jr 7081, 0.9201896907392761, 2.0)</td>\n",
       "      <td>(Blue Mesa Tacos, 0.747922219624312, 1.0)</td>\n",
       "      <td>(Santanas Mexican Food, 0.7241726462217801, 3.0)</td>\n",
       "      <td>(27th Ave Bar n Grill, 0.6937693141616695, 3.5)</td>\n",
       "      <td>(Latino Restaurant, 0.6899218052131457, 4.5)</td>\n",
       "      <td>(Subway, 0.6861766508281268, 3.0)</td>\n",
       "      <td>(Santa Madre Taco Shop, 0.6821552926146015, 4.5)</td>\n",
       "      <td>(Oaxaca Restaurant, 0.6743553422823412, 3.0)</td>\n",
       "      <td>...</td>\n",
       "      <td>(McDonald's, 0.3383258311608151, 2.0)</td>\n",
       "      <td>(Taco Bell, 0.33820876076425693, 2.5)</td>\n",
       "      <td>(Sip Coffee &amp; Beer Garage, 0.3381478858209768,...</td>\n",
       "      <td>(Draw 10 Bar &amp; Grill, 0.3381051321508584, 4.0)</td>\n",
       "      <td>(Red Devil Italian Restaurant &amp; Pizzeria, 0.33...</td>\n",
       "      <td>(Spartan Pita &amp; Gyro, 0.33785386886728364, 4.0)</td>\n",
       "      <td>(Mediterranean Majik Food Truck, 0.33772804094...</td>\n",
       "      <td>(IHOP, 0.33770896309859477, 2.5)</td>\n",
       "      <td>(Rusconi's American Kitchen, 0.337562437548715...</td>\n",
       "      <td>(Jack-In-the Box Drive Thru, 0.337482389554514...</td>\n",
       "    </tr>\n",
       "    <tr>\n",
       "      <th>Vals Getaway DES Cafeteria</th>\n",
       "      <td>(Vals Getaway DES Cafeteria, 0.999999999999997...</td>\n",
       "      <td>(Little Shanghai, 0.7798795320856357, 3.5)</td>\n",
       "      <td>(Jimmy John's, 0.7710456698885298, 2.5)</td>\n",
       "      <td>(Mariscos El Dorado Sin, 0.7482629483036343, 4.5)</td>\n",
       "      <td>(Little Caesars Pizza, 0.7292973727346442, 2.0)</td>\n",
       "      <td>(Red Devil Italian Restaurant &amp; Pizzeria, 0.72...</td>\n",
       "      <td>(Europa Pastry Cafe, 0.724138407103993, 4.5)</td>\n",
       "      <td>(Dust Cutter, 0.7100599562195216, 4.0)</td>\n",
       "      <td>(PokÃ© Catcher, 0.7066845389681197, 4.5)</td>\n",
       "      <td>(Lucky Kitchen, 0.7057175384775647, 3.0)</td>\n",
       "      <td>...</td>\n",
       "      <td>(Blue Moon Gentlemen's Club, 0.346067329454294...</td>\n",
       "      <td>(Lunch Time Cafe, 0.34606005197272777, 4.5)</td>\n",
       "      <td>(Plaza Cafe &amp; Grill, 0.34602606397948166, 5.0)</td>\n",
       "      <td>(Ticoz Latin Kitchen, 0.34597470289166754, 4.0)</td>\n",
       "      <td>(Nee House Chinese Restaurant, 0.3458187769928...</td>\n",
       "      <td>(BP's Hotdogs &amp; More, 0.34553344647567646, 5.0)</td>\n",
       "      <td>(Panda Express, 0.34544422301439714, 2.0)</td>\n",
       "      <td>(Pacific Gardens, 0.34518298239897327, 4.0)</td>\n",
       "      <td>(Seasons 52, 0.34491089238284317, 4.0)</td>\n",
       "      <td>(Corduroy, 0.3447144378314858, 4.0)</td>\n",
       "    </tr>\n",
       "    <tr>\n",
       "      <th>Sushi Mocorito</th>\n",
       "      <td>(Sushi Mocorito, 0.9999999999999991, 3.0)</td>\n",
       "      <td>(Southern Rail, 0.7017054961070657, 3.5)</td>\n",
       "      <td>(Cyprus Grill of Phoenix, 0.5778723924470317, ...</td>\n",
       "      <td>(Livin' Lite Arizona, 0.522219732432157, 4.0)</td>\n",
       "      <td>(Macayo's Mexican Table, 0.516148962535448, 3.0)</td>\n",
       "      <td>(Whataburger Restaurants, 0.4632316749924444, ...</td>\n",
       "      <td>(SpoonZ Cafe, 0.4588495777208934, 3.5)</td>\n",
       "      <td>(Venezia's New York Style Pizzeria, 0.43312670...</td>\n",
       "      <td>(Mid City Kitchen, 0.4310886318488556, 2.5)</td>\n",
       "      <td>(Chi Chi's Tacos, 0.4113673991815871, 5.0)</td>\n",
       "      <td>...</td>\n",
       "      <td>(Subway, 0.19088367438616455, 2.5)</td>\n",
       "      <td>(Madi G's, 0.19083686926022247, 3.0)</td>\n",
       "      <td>(King Solomon's Pizza, 0.19076074147475014, 4.5)</td>\n",
       "      <td>(Einstein Bros Bagels, 0.19075624123636184, 2.5)</td>\n",
       "      <td>(Burger King, 0.19075449621241797, 2.0)</td>\n",
       "      <td>(Cornish Pasty, 0.1907506325531377, 4.0)</td>\n",
       "      <td>(Vals Getaway DES Cafeteria, 0.190624809729468...</td>\n",
       "      <td>(Cousins Subs, 0.1905808294100806, 2.5)</td>\n",
       "      <td>(Manuel's Mexican Restaurant &amp; Cantina, 0.1905...</td>\n",
       "      <td>(Helpings Cafe, Market and Catering, 0.1905588...</td>\n",
       "    </tr>\n",
       "    <tr>\n",
       "      <th>Oregano's Pizza Bistro</th>\n",
       "      <td>(Oregano's Pizza Bistro, 1.0000000000000033, 3.5)</td>\n",
       "      <td>(Waffle House, 0.8653517417443615, 3.5)</td>\n",
       "      <td>(Havana Cafe, 0.8217660372288, 3.5)</td>\n",
       "      <td>(Corbin Bar &amp; Grill, 0.7879959238618975, 4.0)</td>\n",
       "      <td>(Fuzzy's Taco Shop, 0.7685090695236514, 2.5)</td>\n",
       "      <td>(Hap's Pit Barbecue, 0.7263405186533385, 3.5)</td>\n",
       "      <td>(Sushi-to, 0.723102448681065, 5.0)</td>\n",
       "      <td>(Brickyard Sports Bar and Grill, 0.71603662544...</td>\n",
       "      <td>(Bitter &amp; Twisted Cocktail Parlour, 0.70284815...</td>\n",
       "      <td>(The Farm Kitchen, 0.6977583043909719, 4.0)</td>\n",
       "      <td>...</td>\n",
       "      <td>(Flavors of India, 0.36226732988537624, 4.0)</td>\n",
       "      <td>(LongHorn Steakhouse, 0.362163831363647, 3.5)</td>\n",
       "      <td>(Kimmyz Tatum Point, 0.3619360600453635, 4.0)</td>\n",
       "      <td>(Hammered Hog BBQ Hall &amp; Saloon, 0.36180022807...</td>\n",
       "      <td>(Paradise Bakery, 0.361553430374943, 2.5)</td>\n",
       "      <td>(Barro's Pizza, 0.3615197728425279, 3.5)</td>\n",
       "      <td>(Panda Express, 0.36138399319249886, 3.0)</td>\n",
       "      <td>(Mariscos Ensenada 7, 0.3612278714013561, 3.0)</td>\n",
       "      <td>(Subway, 0.3612099134500135, 3.0)</td>\n",
       "      <td>(Romano's Macaroni Grill, 0.36118329067868504,...</td>\n",
       "    </tr>\n",
       "    <tr>\n",
       "      <th>Santanas Mexican Food</th>\n",
       "      <td>(Santanas Mexican Food, 0.9999999999999983, 3.0)</td>\n",
       "      <td>(Ramiros Mexican Food, 0.7923593982548555, 3.0)</td>\n",
       "      <td>(Huss Brewing Co - Uptown Taproom, 0.781513008...</td>\n",
       "      <td>(Sun Asian Kitchen, 0.7718232868904622, 3.5)</td>\n",
       "      <td>(Chipotle Mexican Grill, 0.7675663296800632, 2.5)</td>\n",
       "      <td>(Carl's Jr 7081, 0.7627904248732981, 2.0)</td>\n",
       "      <td>(Subway, 0.7611783959321895, 4.0)</td>\n",
       "      <td>(Steak 44, 0.739236176539385, 4.5)</td>\n",
       "      <td>(Christown Spectrum, 0.7266543498425955, 2.5)</td>\n",
       "      <td>(Nee House Chinese Restaurant, 0.7241726462217...</td>\n",
       "      <td>...</td>\n",
       "      <td>(New York Pizza Dept, 0.365550702349735, 3.0)</td>\n",
       "      <td>(101 Asian Buffet, 0.3654644560671577, 3.0)</td>\n",
       "      <td>(Scooter's Coffee, 0.36536323413818755, 3.0)</td>\n",
       "      <td>(On The Border Mexican Grill &amp; Cantina, 0.3653...</td>\n",
       "      <td>(Jack-In-the Box Drive Thru, 0.365207292690919...</td>\n",
       "      <td>(Joe's Midnight Run, 0.3650584477137975, 4.0)</td>\n",
       "      <td>(Subway, 0.36503235493221864, 3.5)</td>\n",
       "      <td>(Julia Baker Confections, 0.36501562591827613,...</td>\n",
       "      <td>(Pasta Pomodoro, 0.36500840307395344, 3.5)</td>\n",
       "      <td>(True Food Kitchen, 0.36493885972293244, 4.0)</td>\n",
       "    </tr>\n",
       "    <tr>\n",
       "      <th>Five Guys</th>\n",
       "      <td>(Five Guys, 1.0000000000000004, 3.5)</td>\n",
       "      <td>(Uberrito, 0.7554723707545594, 3.5)</td>\n",
       "      <td>(Burger King, 0.7421348113743824, 1.5)</td>\n",
       "      <td>(Cork'n Cleaver, 0.7416760909086034, 4.0)</td>\n",
       "      <td>(KOVO Modern Mediterranean, 0.7341220305574074...</td>\n",
       "      <td>(Pizza Hut, 0.7264593197830693, 2.0)</td>\n",
       "      <td>(My Big Fat Greek Restaurant, 0.71746081356090...</td>\n",
       "      <td>(Soma Cafe, 0.7111449942267711, 3.5)</td>\n",
       "      <td>(Burger Factory, 0.7100875848344256, 3.5)</td>\n",
       "      <td>(The Yacht Club, 0.6949142855384107, 4.0)</td>\n",
       "      <td>...</td>\n",
       "      <td>(Carlos O'Brien's, 0.33489949200186736, 2.5)</td>\n",
       "      <td>(Taco Mich, 0.3347945846451267, 3.5)</td>\n",
       "      <td>(Taqueria La Korita, 0.33475676140850646, 4.0)</td>\n",
       "      <td>(Arby's, 0.3346988456119345, 3.0)</td>\n",
       "      <td>(Red Onion Lounge &amp; Restaurant, 0.334578354602...</td>\n",
       "      <td>(Caroun, 0.3345576764843017, 4.5)</td>\n",
       "      <td>(Taco Bell, 0.3345195222683887, 1.0)</td>\n",
       "      <td>(Paradise Bakery, 0.33451265274916814, 3.5)</td>\n",
       "      <td>(Texas Roadhouse, 0.33435709500004496, 3.5)</td>\n",
       "      <td>(Miracle Mile Delicatessen, 0.3342722602019826...</td>\n",
       "    </tr>\n",
       "    <tr>\n",
       "      <th>Pizza Hut</th>\n",
       "      <td>(Pizza Hut, 1.0000000000000002, 2.0)</td>\n",
       "      <td>(Domino's Pizza, 0.6888216471697716, 3.0)</td>\n",
       "      <td>(Pete's Fish &amp; Chips, 0.6554262330258973, 3.5)</td>\n",
       "      <td>(Guanaquito Restaurant, 0.6229283104958012, 4.5)</td>\n",
       "      <td>(Pastries N Chaat, 0.6186213241278034, 3.0)</td>\n",
       "      <td>(Church's Chicken, 0.6125848325912416, 1.5)</td>\n",
       "      <td>(Outback Steakhouse, 0.610357303913618, 3.5)</td>\n",
       "      <td>(Hong Kong Asian Cuisine, 0.6089297037824956, ...</td>\n",
       "      <td>(Moga Crepes, 0.6025949521785783, 4.0)</td>\n",
       "      <td>(Ray's Pizza, 0.5867416961758655, 3.5)</td>\n",
       "      <td>...</td>\n",
       "      <td>(Wingstop, 0.15913888233641887, 3.5)</td>\n",
       "      <td>(Snoh Ice Shavery, 0.1591345615402487, 4.5)</td>\n",
       "      <td>(Poke Bar, 0.15911151244801888, 4.0)</td>\n",
       "      <td>(OUTLAWS Bar &amp; Restaurant, 0.15896577201311674...</td>\n",
       "      <td>(Chino Bandido, 0.15896024530857353, 4.0)</td>\n",
       "      <td>(Sauce Pizza &amp; Wine, 0.15884959926869174, 4.0)</td>\n",
       "      <td>(Federico's Mexican Food, 0.15882682006796953,...</td>\n",
       "      <td>(Lola Coffee, 0.15878817824231262, 4.0)</td>\n",
       "      <td>(Birrieria Obregon, 0.15873930062556368, 4.0)</td>\n",
       "      <td>(The Wok Express, 0.158673194992476, 3.5)</td>\n",
       "    </tr>\n",
       "    <tr>\n",
       "      <th>Mariscos El Dorado Sin</th>\n",
       "      <td>(Mariscos El Dorado Sin, 1.0000000000000022, 2.0)</td>\n",
       "      <td>(Pizza Patron, 0.6428586978387897, 4.0)</td>\n",
       "      <td>(Buddyz a Chicago Pizzeria, 0.6422951504324006...</td>\n",
       "      <td>(Samurai Sam's, 0.6324562392475459, 3.0)</td>\n",
       "      <td>(Papa Murphy's, 0.630379129259427, 3.5)</td>\n",
       "      <td>(Taco Bell, 0.6268934468698184, 2.5)</td>\n",
       "      <td>(Boomer's Sweet Home Chicago, 0.62234873077184...</td>\n",
       "      <td>(Rosati's Pizza, 0.6215763238683447, 3.0)</td>\n",
       "      <td>(The Downtown Deli, 0.6196211748753243, 4.0)</td>\n",
       "      <td>(Daniel's Italian Cuisine, 0.6188392003831913,...</td>\n",
       "      <td>...</td>\n",
       "      <td>(Taste Of New Mexico, 0.41230534684421494, 4.5)</td>\n",
       "      <td>(Taquizas \"Yiyo\" Catering and Party Supplies, ...</td>\n",
       "      <td>(Cafe Chenar, 0.412248412881544, 5.0)</td>\n",
       "      <td>(Grill Wrap Cafe, 0.4122194558938168, 4.0)</td>\n",
       "      <td>(Filiberto's Mexican Food, 0.4120531592768079,...</td>\n",
       "      <td>(Fox's Cabaret, 0.4120359347826745, 3.5)</td>\n",
       "      <td>(Christopher's and Crush Lounge, 0.41203580646...</td>\n",
       "      <td>(Eastern Buffet, 0.41199373041686493, 1.5)</td>\n",
       "      <td>(Mucha Lucha Taco Shop, 0.41193208326591535, 4.5)</td>\n",
       "      <td>(Jack In the Box, 0.411919415794559, 1.0)</td>\n",
       "    </tr>\n",
       "    <tr>\n",
       "      <th>12 East Cafe</th>\n",
       "      <td>(12 East Cafe, 1.000000000000001, 3.0)</td>\n",
       "      <td>(Barrio Cantina &amp; Grill, 0.8008114528752828, 3.0)</td>\n",
       "      <td>(COFCO Chinese Culture Center, 0.7979654199439...</td>\n",
       "      <td>(Thao Sandwiches, 0.7968827233158691, 3.0)</td>\n",
       "      <td>(The Notorious PIG, 0.7934394158105597, 2.0)</td>\n",
       "      <td>(Rimrock Bar &amp; Grille, 0.7925921039695206, 3.5)</td>\n",
       "      <td>(Sunfare, 0.7914869337333924, 5.0)</td>\n",
       "      <td>(Terra Java, 0.7870520255464448, 3.5)</td>\n",
       "      <td>(Denny's, 0.7779971616568566, 2.0)</td>\n",
       "      <td>(La Fontanella Restaurant, 0.7559538224329596,...</td>\n",
       "      <td>...</td>\n",
       "      <td>(Santanas Mexican Food, 0.3823899122345473, 3.0)</td>\n",
       "      <td>(Romano's Macaroni Grill, 0.38231006165115644,...</td>\n",
       "      <td>(Dilly's Deli, 0.3822869696134746, 3.0)</td>\n",
       "      <td>(Miss Lulu's Cafe, 0.38200838206774257, 3.0)</td>\n",
       "      <td>(Culvers, 0.3818660361199005, 3.0)</td>\n",
       "      <td>(Paradise Bakery, 0.381776057386899, 4.0)</td>\n",
       "      <td>(The Play Factory, 0.3816625608135655, 2.5)</td>\n",
       "      <td>(Los Dos Molinos, 0.3816163239679212, 3.5)</td>\n",
       "      <td>(McDonald's, 0.3814119818526247, 1.5)</td>\n",
       "      <td>(Peter Wong Chinese Restaurant, 0.381406626158...</td>\n",
       "    </tr>\n",
       "  </tbody>\n",
       "</table>\n",
       "<p>10 rows × 1000 columns</p>\n",
       "</div>"
      ],
      "text/plain": [
       "                                                                          rest1  \\\n",
       "name                                                                              \n",
       "Taco Bell                                                 (Taco Bell, 1.0, 3.0)   \n",
       "Nee House Chinese Restaurant  (Nee House Chinese Restaurant, 0.9999999999999...   \n",
       "Vals Getaway DES Cafeteria    (Vals Getaway DES Cafeteria, 0.999999999999997...   \n",
       "Sushi Mocorito                        (Sushi Mocorito, 0.9999999999999991, 3.0)   \n",
       "Oregano's Pizza Bistro        (Oregano's Pizza Bistro, 1.0000000000000033, 3.5)   \n",
       "Santanas Mexican Food          (Santanas Mexican Food, 0.9999999999999983, 3.0)   \n",
       "Five Guys                                  (Five Guys, 1.0000000000000004, 3.5)   \n",
       "Pizza Hut                                  (Pizza Hut, 1.0000000000000002, 2.0)   \n",
       "Mariscos El Dorado Sin        (Mariscos El Dorado Sin, 1.0000000000000022, 2.0)   \n",
       "12 East Cafe                             (12 East Cafe, 1.000000000000001, 3.0)   \n",
       "\n",
       "                                                                          rest2  \\\n",
       "name                                                                              \n",
       "Taco Bell                                  (Seed Cafe, 0.7520659501038904, 4.5)   \n",
       "Nee House Chinese Restaurant  (Huss Brewing Co - Uptown Taproom, 0.947315188...   \n",
       "Vals Getaway DES Cafeteria           (Little Shanghai, 0.7798795320856357, 3.5)   \n",
       "Sushi Mocorito                         (Southern Rail, 0.7017054961070657, 3.5)   \n",
       "Oregano's Pizza Bistro                  (Waffle House, 0.8653517417443615, 3.5)   \n",
       "Santanas Mexican Food           (Ramiros Mexican Food, 0.7923593982548555, 3.0)   \n",
       "Five Guys                                   (Uberrito, 0.7554723707545594, 3.5)   \n",
       "Pizza Hut                             (Domino's Pizza, 0.6888216471697716, 3.0)   \n",
       "Mariscos El Dorado Sin                  (Pizza Patron, 0.6428586978387897, 4.0)   \n",
       "12 East Cafe                  (Barrio Cantina & Grill, 0.8008114528752828, 3.0)   \n",
       "\n",
       "                                                                          rest3  \\\n",
       "name                                                                              \n",
       "Taco Bell                     (Stacy's Off Da Hook BBQ and Soul Food, 0.7508...   \n",
       "Nee House Chinese Restaurant          (Carl's Jr 7081, 0.9201896907392761, 2.0)   \n",
       "Vals Getaway DES Cafeteria              (Jimmy John's, 0.7710456698885298, 2.5)   \n",
       "Sushi Mocorito                (Cyprus Grill of Phoenix, 0.5778723924470317, ...   \n",
       "Oregano's Pizza Bistro                      (Havana Cafe, 0.8217660372288, 3.5)   \n",
       "Santanas Mexican Food         (Huss Brewing Co - Uptown Taproom, 0.781513008...   \n",
       "Five Guys                                (Burger King, 0.7421348113743824, 1.5)   \n",
       "Pizza Hut                        (Pete's Fish & Chips, 0.6554262330258973, 3.5)   \n",
       "Mariscos El Dorado Sin        (Buddyz a Chicago Pizzeria, 0.6422951504324006...   \n",
       "12 East Cafe                  (COFCO Chinese Culture Center, 0.7979654199439...   \n",
       "\n",
       "                                                                          rest4  \\\n",
       "name                                                                              \n",
       "Taco Bell                            (Szechwan Palace, 0.7320203793764878, 3.5)   \n",
       "Nee House Chinese Restaurant          (Blue Mesa Tacos, 0.747922219624312, 1.0)   \n",
       "Vals Getaway DES Cafeteria    (Mariscos El Dorado Sin, 0.7482629483036343, 4.5)   \n",
       "Sushi Mocorito                    (Livin' Lite Arizona, 0.522219732432157, 4.0)   \n",
       "Oregano's Pizza Bistro            (Corbin Bar & Grill, 0.7879959238618975, 4.0)   \n",
       "Santanas Mexican Food              (Sun Asian Kitchen, 0.7718232868904622, 3.5)   \n",
       "Five Guys                             (Cork'n Cleaver, 0.7416760909086034, 4.0)   \n",
       "Pizza Hut                      (Guanaquito Restaurant, 0.6229283104958012, 4.5)   \n",
       "Mariscos El Dorado Sin                 (Samurai Sam's, 0.6324562392475459, 3.0)   \n",
       "12 East Cafe                         (Thao Sandwiches, 0.7968827233158691, 3.0)   \n",
       "\n",
       "                                                                          rest5  \\\n",
       "name                                                                              \n",
       "Taco Bell                     (Morton's The Steakhouse, 0.7311922759810161, ...   \n",
       "Nee House Chinese Restaurant   (Santanas Mexican Food, 0.7241726462217801, 3.0)   \n",
       "Vals Getaway DES Cafeteria      (Little Caesars Pizza, 0.7292973727346442, 2.0)   \n",
       "Sushi Mocorito                 (Macayo's Mexican Table, 0.516148962535448, 3.0)   \n",
       "Oregano's Pizza Bistro             (Fuzzy's Taco Shop, 0.7685090695236514, 2.5)   \n",
       "Santanas Mexican Food         (Chipotle Mexican Grill, 0.7675663296800632, 2.5)   \n",
       "Five Guys                     (KOVO Modern Mediterranean, 0.7341220305574074...   \n",
       "Pizza Hut                           (Pastries N Chaat, 0.6186213241278034, 3.0)   \n",
       "Mariscos El Dorado Sin                  (Papa Murphy's, 0.630379129259427, 3.5)   \n",
       "12 East Cafe                       (The Notorious PIG, 0.7934394158105597, 2.0)   \n",
       "\n",
       "                                                                          rest6  \\\n",
       "name                                                                              \n",
       "Taco Bell                              (Barro's Pizza, 0.7168385493796043, 3.5)   \n",
       "Nee House Chinese Restaurant    (27th Ave Bar n Grill, 0.6937693141616695, 3.5)   \n",
       "Vals Getaway DES Cafeteria    (Red Devil Italian Restaurant & Pizzeria, 0.72...   \n",
       "Sushi Mocorito                (Whataburger Restaurants, 0.4632316749924444, ...   \n",
       "Oregano's Pizza Bistro            (Hap's Pit Barbecue, 0.7263405186533385, 3.5)   \n",
       "Santanas Mexican Food                 (Carl's Jr 7081, 0.7627904248732981, 2.0)   \n",
       "Five Guys                                  (Pizza Hut, 0.7264593197830693, 2.0)   \n",
       "Pizza Hut                           (Church's Chicken, 0.6125848325912416, 1.5)   \n",
       "Mariscos El Dorado Sin                     (Taco Bell, 0.6268934468698184, 2.5)   \n",
       "12 East Cafe                    (Rimrock Bar & Grille, 0.7925921039695206, 3.5)   \n",
       "\n",
       "                                                                          rest7  \\\n",
       "name                                                                              \n",
       "Taco Bell                     (Frank's New York Style Deli, 0.71522078680343...   \n",
       "Nee House Chinese Restaurant       (Latino Restaurant, 0.6899218052131457, 4.5)   \n",
       "Vals Getaway DES Cafeteria         (Europa Pastry Cafe, 0.724138407103993, 4.5)   \n",
       "Sushi Mocorito                           (SpoonZ Cafe, 0.4588495777208934, 3.5)   \n",
       "Oregano's Pizza Bistro                       (Sushi-to, 0.723102448681065, 5.0)   \n",
       "Santanas Mexican Food                         (Subway, 0.7611783959321895, 4.0)   \n",
       "Five Guys                     (My Big Fat Greek Restaurant, 0.71746081356090...   \n",
       "Pizza Hut                          (Outback Steakhouse, 0.610357303913618, 3.5)   \n",
       "Mariscos El Dorado Sin        (Boomer's Sweet Home Chicago, 0.62234873077184...   \n",
       "12 East Cafe                                 (Sunfare, 0.7914869337333924, 5.0)   \n",
       "\n",
       "                                                                          rest8  \\\n",
       "name                                                                              \n",
       "Taco Bell                       (Tacos Trafi Catering, 0.7149916650693801, 5.0)   \n",
       "Nee House Chinese Restaurant                  (Subway, 0.6861766508281268, 3.0)   \n",
       "Vals Getaway DES Cafeteria               (Dust Cutter, 0.7100599562195216, 4.0)   \n",
       "Sushi Mocorito                (Venezia's New York Style Pizzeria, 0.43312670...   \n",
       "Oregano's Pizza Bistro        (Brickyard Sports Bar and Grill, 0.71603662544...   \n",
       "Santanas Mexican Food                        (Steak 44, 0.739236176539385, 4.5)   \n",
       "Five Guys                                  (Soma Cafe, 0.7111449942267711, 3.5)   \n",
       "Pizza Hut                     (Hong Kong Asian Cuisine, 0.6089297037824956, ...   \n",
       "Mariscos El Dorado Sin                (Rosati's Pizza, 0.6215763238683447, 3.0)   \n",
       "12 East Cafe                              (Terra Java, 0.7870520255464448, 3.5)   \n",
       "\n",
       "                                                                          rest9  \\\n",
       "name                                                                              \n",
       "Taco Bell                         (El Sabroso Hot Dog, 0.7139666910781737, 3.5)   \n",
       "Nee House Chinese Restaurant   (Santa Madre Taco Shop, 0.6821552926146015, 4.5)   \n",
       "Vals Getaway DES Cafeteria             (PokÃ© Catcher, 0.7066845389681197, 4.5)   \n",
       "Sushi Mocorito                      (Mid City Kitchen, 0.4310886318488556, 2.5)   \n",
       "Oregano's Pizza Bistro        (Bitter & Twisted Cocktail Parlour, 0.70284815...   \n",
       "Santanas Mexican Food             (Christown Spectrum, 0.7266543498425955, 2.5)   \n",
       "Five Guys                             (Burger Factory, 0.7100875848344256, 3.5)   \n",
       "Pizza Hut                                (Moga Crepes, 0.6025949521785783, 4.0)   \n",
       "Mariscos El Dorado Sin             (The Downtown Deli, 0.6196211748753243, 4.0)   \n",
       "12 East Cafe                                 (Denny's, 0.7779971616568566, 2.0)   \n",
       "\n",
       "                                                                         rest10  \\\n",
       "name                                                                              \n",
       "Taco Bell                          (Sauce Pizza & Wine, 0.710440240150113, 4.0)   \n",
       "Nee House Chinese Restaurant       (Oaxaca Restaurant, 0.6743553422823412, 3.0)   \n",
       "Vals Getaway DES Cafeteria             (Lucky Kitchen, 0.7057175384775647, 3.0)   \n",
       "Sushi Mocorito                       (Chi Chi's Tacos, 0.4113673991815871, 5.0)   \n",
       "Oregano's Pizza Bistro              (The Farm Kitchen, 0.6977583043909719, 4.0)   \n",
       "Santanas Mexican Food         (Nee House Chinese Restaurant, 0.7241726462217...   \n",
       "Five Guys                             (The Yacht Club, 0.6949142855384107, 4.0)   \n",
       "Pizza Hut                                (Ray's Pizza, 0.5867416961758655, 3.5)   \n",
       "Mariscos El Dorado Sin        (Daniel's Italian Cuisine, 0.6188392003831913,...   \n",
       "12 East Cafe                  (La Fontanella Restaurant, 0.7559538224329596,...   \n",
       "\n",
       "                              ...  \\\n",
       "name                          ...   \n",
       "Taco Bell                     ...   \n",
       "Nee House Chinese Restaurant  ...   \n",
       "Vals Getaway DES Cafeteria    ...   \n",
       "Sushi Mocorito                ...   \n",
       "Oregano's Pizza Bistro        ...   \n",
       "Santanas Mexican Food         ...   \n",
       "Five Guys                     ...   \n",
       "Pizza Hut                     ...   \n",
       "Mariscos El Dorado Sin        ...   \n",
       "12 East Cafe                  ...   \n",
       "\n",
       "                                                                        rest991  \\\n",
       "name                                                                              \n",
       "Taco Bell                         (Drip Coffee Lounge, 0.3182838535632037, 3.5)   \n",
       "Nee House Chinese Restaurant              (McDonald's, 0.3383258311608151, 2.0)   \n",
       "Vals Getaway DES Cafeteria    (Blue Moon Gentlemen's Club, 0.346067329454294...   \n",
       "Sushi Mocorito                               (Subway, 0.19088367438616455, 2.5)   \n",
       "Oregano's Pizza Bistro             (Flavors of India, 0.36226732988537624, 4.0)   \n",
       "Santanas Mexican Food             (New York Pizza Dept, 0.365550702349735, 3.0)   \n",
       "Five Guys                          (Carlos O'Brien's, 0.33489949200186736, 2.5)   \n",
       "Pizza Hut                                  (Wingstop, 0.15913888233641887, 3.5)   \n",
       "Mariscos El Dorado Sin          (Taste Of New Mexico, 0.41230534684421494, 4.5)   \n",
       "12 East Cafe                   (Santanas Mexican Food, 0.3823899122345473, 3.0)   \n",
       "\n",
       "                                                                        rest992  \\\n",
       "name                                                                              \n",
       "Taco Bell                                   (Steak 44, 0.3182047603702458, 4.5)   \n",
       "Nee House Chinese Restaurant              (Taco Bell, 0.33820876076425693, 2.5)   \n",
       "Vals Getaway DES Cafeteria          (Lunch Time Cafe, 0.34606005197272777, 4.5)   \n",
       "Sushi Mocorito                             (Madi G's, 0.19083686926022247, 3.0)   \n",
       "Oregano's Pizza Bistro            (LongHorn Steakhouse, 0.362163831363647, 3.5)   \n",
       "Santanas Mexican Food               (101 Asian Buffet, 0.3654644560671577, 3.0)   \n",
       "Five Guys                                  (Taco Mich, 0.3347945846451267, 3.5)   \n",
       "Pizza Hut                           (Snoh Ice Shavery, 0.1591345615402487, 4.5)   \n",
       "Mariscos El Dorado Sin        (Taquizas \"Yiyo\" Catering and Party Supplies, ...   \n",
       "12 East Cafe                  (Romano's Macaroni Grill, 0.38231006165115644,...   \n",
       "\n",
       "                                                                        rest993  \\\n",
       "name                                                                              \n",
       "Taco Bell                     (Katz Delicatessen & Sandwich Shop, 0.31816532...   \n",
       "Nee House Chinese Restaurant  (Sip Coffee & Beer Garage, 0.3381478858209768,...   \n",
       "Vals Getaway DES Cafeteria       (Plaza Cafe & Grill, 0.34602606397948166, 5.0)   \n",
       "Sushi Mocorito                 (King Solomon's Pizza, 0.19076074147475014, 4.5)   \n",
       "Oregano's Pizza Bistro            (Kimmyz Tatum Point, 0.3619360600453635, 4.0)   \n",
       "Santanas Mexican Food              (Scooter's Coffee, 0.36536323413818755, 3.0)   \n",
       "Five Guys                        (Taqueria La Korita, 0.33475676140850646, 4.0)   \n",
       "Pizza Hut                                  (Poke Bar, 0.15911151244801888, 4.0)   \n",
       "Mariscos El Dorado Sin                    (Cafe Chenar, 0.412248412881544, 5.0)   \n",
       "12 East Cafe                            (Dilly's Deli, 0.3822869696134746, 3.0)   \n",
       "\n",
       "                                                                        rest994  \\\n",
       "name                                                                              \n",
       "Taco Bell                                (Flaming Wok, 0.3180882206658734, 4.0)   \n",
       "Nee House Chinese Restaurant     (Draw 10 Bar & Grill, 0.3381051321508584, 4.0)   \n",
       "Vals Getaway DES Cafeteria      (Ticoz Latin Kitchen, 0.34597470289166754, 4.0)   \n",
       "Sushi Mocorito                 (Einstein Bros Bagels, 0.19075624123636184, 2.5)   \n",
       "Oregano's Pizza Bistro        (Hammered Hog BBQ Hall & Saloon, 0.36180022807...   \n",
       "Santanas Mexican Food         (On The Border Mexican Grill & Cantina, 0.3653...   \n",
       "Five Guys                                     (Arby's, 0.3346988456119345, 3.0)   \n",
       "Pizza Hut                     (OUTLAWS Bar & Restaurant, 0.15896577201311674...   \n",
       "Mariscos El Dorado Sin               (Grill Wrap Cafe, 0.4122194558938168, 4.0)   \n",
       "12 East Cafe                       (Miss Lulu's Cafe, 0.38200838206774257, 3.0)   \n",
       "\n",
       "                                                                        rest995  \\\n",
       "name                                                                              \n",
       "Taco Bell                                 (Yu's Cafe, 0.31805401067240596, 3.5)   \n",
       "Nee House Chinese Restaurant  (Red Devil Italian Restaurant & Pizzeria, 0.33...   \n",
       "Vals Getaway DES Cafeteria    (Nee House Chinese Restaurant, 0.3458187769928...   \n",
       "Sushi Mocorito                          (Burger King, 0.19075449621241797, 2.0)   \n",
       "Oregano's Pizza Bistro                (Paradise Bakery, 0.361553430374943, 2.5)   \n",
       "Santanas Mexican Food         (Jack-In-the Box Drive Thru, 0.365207292690919...   \n",
       "Five Guys                     (Red Onion Lounge & Restaurant, 0.334578354602...   \n",
       "Pizza Hut                             (Chino Bandido, 0.15896024530857353, 4.0)   \n",
       "Mariscos El Dorado Sin        (Filiberto's Mexican Food, 0.4120531592768079,...   \n",
       "12 East Cafe                                 (Culvers, 0.3818660361199005, 3.0)   \n",
       "\n",
       "                                                                      rest996  \\\n",
       "name                                                                            \n",
       "Taco Bell                      (Canam Realty Group, 0.31795317294894543, 3.0)   \n",
       "Nee House Chinese Restaurant  (Spartan Pita & Gyro, 0.33785386886728364, 4.0)   \n",
       "Vals Getaway DES Cafeteria    (BP's Hotdogs & More, 0.34553344647567646, 5.0)   \n",
       "Sushi Mocorito                       (Cornish Pasty, 0.1907506325531377, 4.0)   \n",
       "Oregano's Pizza Bistro               (Barro's Pizza, 0.3615197728425279, 3.5)   \n",
       "Santanas Mexican Food           (Joe's Midnight Run, 0.3650584477137975, 4.0)   \n",
       "Five Guys                                   (Caroun, 0.3345576764843017, 4.5)   \n",
       "Pizza Hut                      (Sauce Pizza & Wine, 0.15884959926869174, 4.0)   \n",
       "Mariscos El Dorado Sin               (Fox's Cabaret, 0.4120359347826745, 3.5)   \n",
       "12 East Cafe                        (Paradise Bakery, 0.381776057386899, 4.0)   \n",
       "\n",
       "                                                                        rest997  \\\n",
       "name                                                                              \n",
       "Taco Bell                                  (Meatballz, 0.3179461976215755, 2.5)   \n",
       "Nee House Chinese Restaurant  (Mediterranean Majik Food Truck, 0.33772804094...   \n",
       "Vals Getaway DES Cafeteria            (Panda Express, 0.34544422301439714, 2.0)   \n",
       "Sushi Mocorito                (Vals Getaway DES Cafeteria, 0.190624809729468...   \n",
       "Oregano's Pizza Bistro                (Panda Express, 0.36138399319249886, 3.0)   \n",
       "Santanas Mexican Food                        (Subway, 0.36503235493221864, 3.5)   \n",
       "Five Guys                                  (Taco Bell, 0.3345195222683887, 1.0)   \n",
       "Pizza Hut                     (Federico's Mexican Food, 0.15882682006796953,...   \n",
       "Mariscos El Dorado Sin        (Christopher's and Crush Lounge, 0.41203580646...   \n",
       "12 East Cafe                        (The Play Factory, 0.3816625608135655, 2.5)   \n",
       "\n",
       "                                                                        rest998  \\\n",
       "name                                                                              \n",
       "Taco Bell                               (Zoes Kitchen, 0.3178571008167459, 3.5)   \n",
       "Nee House Chinese Restaurant                   (IHOP, 0.33770896309859477, 2.5)   \n",
       "Vals Getaway DES Cafeteria          (Pacific Gardens, 0.34518298239897327, 4.0)   \n",
       "Sushi Mocorito                          (Cousins Subs, 0.1905808294100806, 2.5)   \n",
       "Oregano's Pizza Bistro           (Mariscos Ensenada 7, 0.3612278714013561, 3.0)   \n",
       "Santanas Mexican Food         (Julia Baker Confections, 0.36501562591827613,...   \n",
       "Five Guys                           (Paradise Bakery, 0.33451265274916814, 3.5)   \n",
       "Pizza Hut                               (Lola Coffee, 0.15878817824231262, 4.0)   \n",
       "Mariscos El Dorado Sin               (Eastern Buffet, 0.41199373041686493, 1.5)   \n",
       "12 East Cafe                         (Los Dos Molinos, 0.3816163239679212, 3.5)   \n",
       "\n",
       "                                                                        rest999  \\\n",
       "name                                                                              \n",
       "Taco Bell                     (Ric's Smokehouse BBQ & Grill, 0.3177267261075...   \n",
       "Nee House Chinese Restaurant  (Rusconi's American Kitchen, 0.337562437548715...   \n",
       "Vals Getaway DES Cafeteria               (Seasons 52, 0.34491089238284317, 4.0)   \n",
       "Sushi Mocorito                (Manuel's Mexican Restaurant & Cantina, 0.1905...   \n",
       "Oregano's Pizza Bistro                        (Subway, 0.3612099134500135, 3.0)   \n",
       "Santanas Mexican Food                (Pasta Pomodoro, 0.36500840307395344, 3.5)   \n",
       "Five Guys                           (Texas Roadhouse, 0.33435709500004496, 3.5)   \n",
       "Pizza Hut                         (Birrieria Obregon, 0.15873930062556368, 4.0)   \n",
       "Mariscos El Dorado Sin        (Mucha Lucha Taco Shop, 0.41193208326591535, 4.5)   \n",
       "12 East Cafe                              (McDonald's, 0.3814119818526247, 1.5)   \n",
       "\n",
       "                                                                       rest1000  \n",
       "name                                                                             \n",
       "Taco Bell                          (Marcelo Delivers, 0.31756868813724337, 4.0)  \n",
       "Nee House Chinese Restaurant  (Jack-In-the Box Drive Thru, 0.337482389554514...  \n",
       "Vals Getaway DES Cafeteria                  (Corduroy, 0.3447144378314858, 4.0)  \n",
       "Sushi Mocorito                (Helpings Cafe, Market and Catering, 0.1905588...  \n",
       "Oregano's Pizza Bistro        (Romano's Macaroni Grill, 0.36118329067868504,...  \n",
       "Santanas Mexican Food             (True Food Kitchen, 0.36493885972293244, 4.0)  \n",
       "Five Guys                     (Miracle Mile Delicatessen, 0.3342722602019826...  \n",
       "Pizza Hut                             (The Wok Express, 0.158673194992476, 3.5)  \n",
       "Mariscos El Dorado Sin                (Jack In the Box, 0.411919415794559, 1.0)  \n",
       "12 East Cafe                  (Peter Wong Chinese Restaurant, 0.381406626158...  \n",
       "\n",
       "[10 rows x 1000 columns]"
      ]
     },
     "execution_count": 15,
     "metadata": {},
     "output_type": "execute_result"
    }
   ],
   "source": [
    "final_df['name'] = restaurant_info_city.name.values\n",
    "final_df.set_index('name',inplace=True)\n",
    "final_df.head(10)"
   ]
  },
  {
   "cell_type": "code",
   "execution_count": 18,
   "metadata": {
    "scrolled": false
   },
   "outputs": [
    {
     "name": "stdout",
     "output_type": "stream",
     "text": [
      "Taco Bell\n"
     ]
    },
    {
     "data": {
      "text/plain": [
       "['Taco Bell',\n",
       " 'Songbird Coffee & Tea House',\n",
       " 'Chick-fil-A',\n",
       " 'Pizza Hut',\n",
       " \"Denny's\",\n",
       " 'Birrieria Obregon',\n",
       " 'Daisy Mountain Coffee Roasters',\n",
       " 'Subway',\n",
       " 'Marigold Maison- Paradise Valley',\n",
       " 'Sushi Mocorito',\n",
       " 'Deemos American Grill',\n",
       " \"Sam's Gyros\",\n",
       " 'Mariscos El Dorado Sin',\n",
       " \"Tarbell's The Tavern\",\n",
       " '12 East Cafe',\n",
       " 'Chick Rotisserie & Wine Bar',\n",
       " 'Pizzeria Bianco',\n",
       " 'Santanas Mexican Food',\n",
       " 'Five Guys',\n",
       " \"Oregano's Pizza Bistro\"]"
      ]
     },
     "metadata": {},
     "output_type": "display_data"
    },
    {
     "name": "stdout",
     "output_type": "stream",
     "text": [
      "Nee House Chinese Restaurant\n"
     ]
    },
    {
     "data": {
      "text/plain": [
       "['Nee House Chinese Restaurant',\n",
       " 'Santanas Mexican Food',\n",
       " 'Subway',\n",
       " \"Carolina's Mexican Food\",\n",
       " 'Olives Mediterranean Grill',\n",
       " 'Taco Bell',\n",
       " 'Birrieria Obregon',\n",
       " 'Daisy Mountain Coffee Roasters',\n",
       " 'Smashburger',\n",
       " 'Pizza Hut',\n",
       " 'Sushi Mocorito',\n",
       " \"Denny's\",\n",
       " 'Mariscos El Dorado Sin',\n",
       " 'Marigold Maison- Paradise Valley',\n",
       " 'Chick-fil-A',\n",
       " \"Sam's Gyros\",\n",
       " '12 East Cafe',\n",
       " \"Oregano's Pizza Bistro\",\n",
       " \"O'Briens Sports Pub\",\n",
       " 'Pho Bar Central',\n",
       " 'Deemos American Grill',\n",
       " 'Krazy 4 Koffee',\n",
       " \"Francisco's Mexican Food\",\n",
       " 'Vals Getaway DES Cafeteria',\n",
       " 'Chick Rotisserie & Wine Bar']"
      ]
     },
     "metadata": {},
     "output_type": "display_data"
    },
    {
     "name": "stdout",
     "output_type": "stream",
     "text": [
      "Vals Getaway DES Cafeteria\n"
     ]
    },
    {
     "data": {
      "text/plain": [
       "['Vals Getaway DES Cafeteria',\n",
       " 'Mariscos El Dorado Sin',\n",
       " \"Sam's Gyros\",\n",
       " 'Subway',\n",
       " 'Taco Bell',\n",
       " 'Sushi Mocorito',\n",
       " 'Pizza Hut',\n",
       " \"Oregano's Pizza Bistro\",\n",
       " 'Chick-fil-A',\n",
       " \"O'Briens Sports Pub\",\n",
       " 'Daisy Mountain Coffee Roasters',\n",
       " 'Birrieria Obregon',\n",
       " 'Five Guys',\n",
       " 'Olives Mediterranean Grill',\n",
       " 'Marigold Maison- Paradise Valley',\n",
       " 'Santanas Mexican Food',\n",
       " 'Smashburger',\n",
       " \"Denny's\",\n",
       " 'Chick Rotisserie & Wine Bar',\n",
       " 'Pho Bar Central',\n",
       " 'Squaw Peak Cafe',\n",
       " '12 East Cafe',\n",
       " 'Joeys of Chicago',\n",
       " 'Katz Delicatessen & Sandwich Shop',\n",
       " 'Nee House Chinese Restaurant']"
      ]
     },
     "metadata": {},
     "output_type": "display_data"
    },
    {
     "name": "stdout",
     "output_type": "stream",
     "text": [
      "Sushi Mocorito\n"
     ]
    },
    {
     "data": {
      "text/plain": [
       "['Sushi Mocorito',\n",
       " 'Marigold Maison- Paradise Valley',\n",
       " 'Subway',\n",
       " \"McDonald's\",\n",
       " 'Olives Mediterranean Grill',\n",
       " 'Taco Bell',\n",
       " 'Jack in the Box',\n",
       " 'Birrieria Obregon',\n",
       " 'Daisy Mountain Coffee Roasters',\n",
       " \"Sam's Gyros\",\n",
       " \"Carolina's Mexican Food\",\n",
       " 'Mariscos El Dorado Sin',\n",
       " \"Oregano's Pizza Bistro\",\n",
       " 'Chick-fil-A',\n",
       " 'Pizza Hut',\n",
       " 'The Crepe Club',\n",
       " \"Denny's\",\n",
       " 'Chick Rotisserie & Wine Bar',\n",
       " '12 East Cafe',\n",
       " 'Smashburger',\n",
       " 'Pho Bar Central',\n",
       " \"O'Briens Sports Pub\",\n",
       " 'Pizzeria Bianco',\n",
       " \"Francisco's Mexican Food\",\n",
       " 'Nee House Chinese Restaurant',\n",
       " \"Oscar Taylor's\",\n",
       " 'Santanas Mexican Food',\n",
       " 'Krazy 4 Koffee',\n",
       " 'Vals Getaway DES Cafeteria']"
      ]
     },
     "metadata": {},
     "output_type": "display_data"
    },
    {
     "name": "stdout",
     "output_type": "stream",
     "text": [
      "Oregano's Pizza Bistro\n"
     ]
    },
    {
     "data": {
      "text/plain": [
       "[\"Oregano's Pizza Bistro\",\n",
       " \"Sam's Gyros\",\n",
       " 'Subway',\n",
       " 'Mariscos El Dorado Sin',\n",
       " 'Taco Bell',\n",
       " 'Sushi Mocorito',\n",
       " 'Pizza Hut',\n",
       " 'Birrieria Obregon',\n",
       " 'Vals Getaway DES Cafeteria',\n",
       " 'Daisy Mountain Coffee Roasters',\n",
       " \"O'Briens Sports Pub\",\n",
       " 'Chick-fil-A',\n",
       " 'Smashburger',\n",
       " 'Marigold Maison- Paradise Valley',\n",
       " 'Olives Mediterranean Grill',\n",
       " 'Chick Rotisserie & Wine Bar',\n",
       " \"Denny's\",\n",
       " 'Joeys of Chicago',\n",
       " 'Santanas Mexican Food',\n",
       " 'Pho Bar Central',\n",
       " 'Five Guys',\n",
       " '12 East Cafe',\n",
       " 'Squaw Peak Cafe',\n",
       " 'Pizzeria Bianco',\n",
       " 'Nee House Chinese Restaurant']"
      ]
     },
     "metadata": {},
     "output_type": "display_data"
    },
    {
     "name": "stdout",
     "output_type": "stream",
     "text": [
      "Santanas Mexican Food\n"
     ]
    },
    {
     "data": {
      "text/plain": [
       "['Santanas Mexican Food',\n",
       " 'Nee House Chinese Restaurant',\n",
       " 'Taco Bell',\n",
       " 'Five Guys',\n",
       " 'Birrieria Obregon',\n",
       " 'Daisy Mountain Coffee Roasters',\n",
       " 'Mariscos El Dorado Sin',\n",
       " 'Pizza Hut',\n",
       " 'Sushi Mocorito',\n",
       " \"Denny's\",\n",
       " \"Oregano's Pizza Bistro\",\n",
       " 'Vals Getaway DES Cafeteria',\n",
       " '12 East Cafe',\n",
       " 'Chick Rotisserie & Wine Bar']"
      ]
     },
     "metadata": {},
     "output_type": "display_data"
    },
    {
     "name": "stdout",
     "output_type": "stream",
     "text": [
      "Five Guys\n"
     ]
    },
    {
     "data": {
      "text/plain": [
       "['Five Guys',\n",
       " 'Pizza Hut',\n",
       " 'Subway',\n",
       " 'Taco Bell',\n",
       " \"Denny's\",\n",
       " 'Armadillo Grill',\n",
       " 'Birrieria Obregon',\n",
       " 'Chick-fil-A',\n",
       " 'Mariscos El Dorado Sin',\n",
       " 'Cranberry Hills Eatery & Catering',\n",
       " 'Chick Rotisserie & Wine Bar',\n",
       " 'Marigold Maison- Paradise Valley',\n",
       " 'Deemos American Grill',\n",
       " \"Sam's Gyros\",\n",
       " 'Daisy Mountain Coffee Roasters',\n",
       " \"Oregano's Pizza Bistro\",\n",
       " \"Long Wong's Famous Wings\",\n",
       " 'Olives Mediterranean Grill',\n",
       " 'Sushi Mocorito']"
      ]
     },
     "metadata": {},
     "output_type": "display_data"
    },
    {
     "name": "stdout",
     "output_type": "stream",
     "text": [
      "Pizza Hut\n"
     ]
    },
    {
     "data": {
      "text/plain": [
       "['Pizza Hut',\n",
       " 'Subway',\n",
       " \"Denny's\",\n",
       " \"McDonald's\",\n",
       " 'Armadillo Grill',\n",
       " 'Taco Bell',\n",
       " 'On Deck Sports Grill',\n",
       " 'Mariscos El Dorado Sin',\n",
       " 'Chick Rotisserie & Wine Bar',\n",
       " 'Cranberry Hills Eatery & Catering',\n",
       " 'Five Guys',\n",
       " \"Francisco's Mexican Food\",\n",
       " 'Santanas Mexican Food',\n",
       " 'Birrieria Obregon',\n",
       " 'Olives Mediterranean Grill',\n",
       " 'Tammie Coe Cakes',\n",
       " \"Long Wong's Famous Wings\",\n",
       " 'Daisy Mountain Coffee Roasters',\n",
       " \"Oregano's Pizza Bistro\",\n",
       " 'Deemos American Grill',\n",
       " \"Sam's Gyros\",\n",
       " 'French Grocery',\n",
       " 'Sushi Mocorito']"
      ]
     },
     "metadata": {},
     "output_type": "display_data"
    },
    {
     "name": "stdout",
     "output_type": "stream",
     "text": [
      "Mariscos El Dorado Sin\n"
     ]
    },
    {
     "data": {
      "text/plain": [
       "['Mariscos El Dorado Sin',\n",
       " 'Taco Bell',\n",
       " 'Subway',\n",
       " 'Chick Rotisserie & Wine Bar',\n",
       " 'Daisy Mountain Coffee Roasters',\n",
       " 'Birrieria Obregon',\n",
       " \"Denny's\",\n",
       " 'Marigold Maison- Paradise Valley',\n",
       " 'Sushi Mocorito',\n",
       " 'Pizza Hut',\n",
       " \"Sam's Gyros\",\n",
       " 'Chick-fil-A',\n",
       " '12 East Cafe',\n",
       " 'Cranberry Hills Eatery & Catering',\n",
       " 'Santanas Mexican Food',\n",
       " 'Pizzeria Bianco',\n",
       " \"O'Briens Sports Pub\",\n",
       " 'Smashburger',\n",
       " \"Oregano's Pizza Bistro\",\n",
       " 'Vals Getaway DES Cafeteria']"
      ]
     },
     "metadata": {},
     "output_type": "display_data"
    },
    {
     "name": "stdout",
     "output_type": "stream",
     "text": [
      "12 East Cafe\n"
     ]
    },
    {
     "data": {
      "text/plain": [
       "['12 East Cafe',\n",
       " \"Denny's\",\n",
       " 'Birrieria Obregon',\n",
       " 'Taco Bell',\n",
       " 'Daisy Mountain Coffee Roasters',\n",
       " 'Pizzeria Bianco',\n",
       " 'Subway',\n",
       " 'Sushi Mocorito',\n",
       " 'Chick-fil-A',\n",
       " 'Marigold Maison- Paradise Valley',\n",
       " 'Mariscos El Dorado Sin',\n",
       " 'Squaw Peak Cafe',\n",
       " \"Sam's Gyros\",\n",
       " 'Chick Rotisserie & Wine Bar',\n",
       " 'Pizza Hut',\n",
       " 'Deemos American Grill',\n",
       " 'Smashburger',\n",
       " \"Oregano's Pizza Bistro\",\n",
       " 'Santanas Mexican Food']"
      ]
     },
     "metadata": {},
     "output_type": "display_data"
    },
    {
     "name": "stdout",
     "output_type": "stream",
     "text": [
      "Squaw Peak Cafe\n"
     ]
    },
    {
     "data": {
      "text/plain": [
       "['Squaw Peak Cafe',\n",
       " 'Sushi Mocorito',\n",
       " 'Taco Bell',\n",
       " 'Birrieria Obregon',\n",
       " 'Mariscos El Dorado Sin',\n",
       " '12 East Cafe',\n",
       " 'Pizza Hut',\n",
       " \"Oregano's Pizza Bistro\",\n",
       " 'Chick Rotisserie & Wine Bar',\n",
       " 'Vals Getaway DES Cafeteria',\n",
       " 'Santanas Mexican Food',\n",
       " 'Nee House Chinese Restaurant']"
      ]
     },
     "metadata": {},
     "output_type": "display_data"
    }
   ],
   "source": [
    "def intersection(lst1, lst2): \n",
    "    lst3 = [value for value in lst1 if value in lst2]\n",
    "    output = []\n",
    "    for x in lst3:\n",
    "        if x not in output:\n",
    "            output.append(x)\n",
    "    return output\n",
    "\n",
    "location = 0\n",
    "for location in [0,1,2,3,4,5,6,7,8,9,10]:\n",
    "    print(restaurant_info_city.name.iloc[location])\n",
    "    content_based_recs_series = final_df.iloc[location]\n",
    "    content_based_recs_df = pd.DataFrame.from_dict(dict(content_based_recs_series)).T\n",
    "    content_based_list_df = list(content_based_recs_df[0])\n",
    "    cluster_based_rec_df = cluster_recommendations_df.iloc[location]\n",
    "    recommendations = (intersection(content_based_list_df, list(cluster_based_rec_df)))\n",
    "    display(recommendations)"
   ]
  },
  {
   "cell_type": "code",
   "execution_count": null,
   "metadata": {},
   "outputs": [],
   "source": []
  }
 ],
 "metadata": {
  "kernelspec": {
   "display_name": "Python 3",
   "language": "python",
   "name": "python3"
  },
  "language_info": {
   "codemirror_mode": {
    "name": "ipython",
    "version": 3
   },
   "file_extension": ".py",
   "mimetype": "text/x-python",
   "name": "python",
   "nbconvert_exporter": "python",
   "pygments_lexer": "ipython3",
   "version": "3.7.3"
  }
 },
 "nbformat": 4,
 "nbformat_minor": 2
}
