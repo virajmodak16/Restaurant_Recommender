{
 "cells": [
  {
   "cell_type": "markdown",
   "metadata": {},
   "source": [
    "# Collaborative Filtering\n",
    "\n",
    "### Uses reviews by user and reviews for restaurants to find recommendations"
   ]
  },
  {
   "cell_type": "markdown",
   "metadata": {},
   "source": [
    "### Import necessary modules"
   ]
  },
  {
   "cell_type": "code",
   "execution_count": 1,
   "metadata": {},
   "outputs": [],
   "source": [
    "import pandas as pd\n",
    "import time\n",
    "from IPython.display import display\n",
    "import matplotlib.pyplot as plt\n",
    "import math\n",
    "import numpy as np\n",
    "import seaborn as sns\n",
    "from datetime import datetime\n",
    "from datetime import date\n",
    "from dateutil import parser\n",
    "import collections\n",
    "from nltk.tokenize import sent_tokenize\n",
    "from nltk.tokenize import word_tokenize\n",
    "from nltk.stem import PorterStemmer\n",
    "import re\n",
    "\n",
    "from nltk.corpus import stopwords\n",
    "from tqdm import tqdm\n",
    "from sklearn.metrics.pairwise import cosine_similarity\n",
    "from scipy import spatial\n",
    "from itertools import chain\n",
    "from sklearn.feature_extraction.text import CountVectorizer\n",
    "from sklearn.feature_extraction.text import TfidfVectorizer\n",
    "from sklearn.metrics.pairwise import linear_kernel\n",
    "from itertools import combinations\n",
    "from nltk.tokenize import WordPunctTokenizer\n",
    "\n",
    "%matplotlib inline"
   ]
  },
  {
   "cell_type": "markdown",
   "metadata": {},
   "source": [
    "### Load Data into three DFs: user, review and restaurant info DFs"
   ]
  },
  {
   "cell_type": "code",
   "execution_count": 2,
   "metadata": {},
   "outputs": [
    {
     "name": "stdout",
     "output_type": "stream",
     "text": [
      "Reading data took 157.3 seconds\n"
     ]
    }
   ],
   "source": [
    "start = time.time()\n",
    "restaurant_info = pd.read_csv(r'\\\\rf3prd431n1\\F$\\Viraj_work\\misc_2\\Data_1\\restaurant_info.csv', low_memory=False)\n",
    "user_info = pd.read_csv(r'\\\\rf3prd431n1\\F$\\Viraj_work\\misc_2\\Data_1\\user_info_for_restaurants.csv',low_memory=False)\n",
    "review_info = pd.read_csv(r'\\\\rf3prd431n1\\F$\\Viraj_work\\misc_2\\Data_1\\review_info_for_restaurants.csv',low_memory=False)\n",
    "done = time.time()\n",
    "elapsed = done-start\n",
    "print('Reading data took {} seconds'.format(round(elapsed, 2)))"
   ]
  },
  {
   "cell_type": "markdown",
   "metadata": {},
   "source": [
    "### Filter the city and delete rest of the files to clean up memory"
   ]
  },
  {
   "cell_type": "code",
   "execution_count": 3,
   "metadata": {},
   "outputs": [],
   "source": [
    "city = 'Phoenix'\n",
    "restaurant_info_city = restaurant_info[restaurant_info.city==city]\n",
    "review_info_city = review_info[review_info.business_id.isin(restaurant_info_city.business_id)]\n",
    "user_info_city = user_info[user_info.user_id.isin(review_info_city.user_id)]\n",
    "\n",
    "del restaurant_info\n",
    "del review_info\n",
    "del user_info"
   ]
  },
  {
   "cell_type": "code",
   "execution_count": 4,
   "metadata": {},
   "outputs": [
    {
     "name": "stdout",
     "output_type": "stream",
     "text": [
      "(331412, 10)\n"
     ]
    }
   ],
   "source": [
    "user_ids_larger_1 = pd.value_counts(review_info_city.user_id, sort=False) > 1\n",
    "user_ids_larger_1 = user_ids_larger_1[user_ids_larger_1].index\n",
    "rest_lens = review_info_city[review_info_city['user_id'].isin(user_ids_larger_1)]\n",
    "print(rest_lens.shape)\n",
    "assert np.all(rest_lens.user_id.value_counts() > 1)"
   ]
  },
  {
   "cell_type": "code",
   "execution_count": 5,
   "metadata": {
    "scrolled": true
   },
   "outputs": [
    {
     "name": "stderr",
     "output_type": "stream",
     "text": [
      "C:\\ProgramData\\Anaconda3\\lib\\site-packages\\ipykernel_launcher.py:8: SettingWithCopyWarning: \n",
      "A value is trying to be set on a copy of a slice from a DataFrame.\n",
      "Try using .loc[row_indexer,col_indexer] = value instead\n",
      "\n",
      "See the caveats in the documentation: http://pandas.pydata.org/pandas-docs/stable/indexing.html#indexing-view-versus-copy\n",
      "  \n",
      "C:\\ProgramData\\Anaconda3\\lib\\site-packages\\ipykernel_launcher.py:5: DeprecationWarning: \n",
      ".ix is deprecated. Please use\n",
      ".loc for label based indexing or\n",
      ".iloc for positional indexing\n",
      "\n",
      "See the documentation here:\n",
      "http://pandas.pydata.org/pandas-docs/stable/indexing.html#ix-indexer-is-deprecated\n",
      "  \"\"\"\n"
     ]
    },
    {
     "name": "stdout",
     "output_type": "stream",
     "text": [
      "(331412, 11)\n",
      "(237882, 11)\n",
      "(93530, 11)\n"
     ]
    }
   ],
   "source": [
    "def assign_to_set(df):\n",
    "    sampled_ids = np.random.choice(df.index,\n",
    "                                   size=np.int64(np.ceil(df.index.size * 0.2)),\n",
    "                                   replace=False)\n",
    "    df.ix[sampled_ids, 'for_testing'] = True\n",
    "    return df\n",
    "\n",
    "rest_lens['for_testing'] = False\n",
    "grouped = rest_lens.groupby('user_id', group_keys=False).apply(assign_to_set)\n",
    "rest_lens_train = rest_lens[grouped.for_testing == False]\n",
    "rest_lens_test = rest_lens[grouped.for_testing == True]\n",
    "print(rest_lens.shape)\n",
    "print(rest_lens_train.shape)\n",
    "print(rest_lens_test.shape)\n",
    "assert len(rest_lens_train.index & rest_lens_test.index) == 0"
   ]
  },
  {
   "cell_type": "markdown",
   "metadata": {},
   "source": [
    "### Obtain User and item-based similarities"
   ]
  },
  {
   "cell_type": "code",
   "execution_count": 6,
   "metadata": {},
   "outputs": [
    {
     "name": "stdout",
     "output_type": "stream",
     "text": [
      "user\n",
      "item\n",
      "Calculating similarities took 191.46 seconds\n"
     ]
    }
   ],
   "source": [
    "def fast_similarity(ratings, kind, epsilon=1e-9):\n",
    "    # epsilon -> small number for handling dived-by-zero errors\n",
    "    if kind == 'user':\n",
    "        print(kind)\n",
    "        sim = ratings.dot(ratings.T) + epsilon\n",
    "    elif kind == 'item':\n",
    "        print(kind)\n",
    "        sim = ratings.T.dot(ratings) + epsilon\n",
    "    norms = np.array([np.sqrt(np.diagonal(sim))])\n",
    "    return (sim / norms / norms.T)\n",
    "\n",
    "\n",
    "rating_matrix_train = pd.pivot_table(rest_lens_train,index=['user_id'],values='stars',columns=['business_id'])\n",
    "rating_matrix_train.fillna(0,inplace=True)\n",
    "rating_matrix_test = pd.pivot_table(rest_lens_test,index=['user_id'],values='stars',columns=['business_id'])\n",
    "rating_matrix_test.fillna(0,inplace=True)\n",
    "\n",
    "start = time.time()\n",
    "user_similarity = fast_similarity(rating_matrix_train.to_numpy(), kind='user')\n",
    "item_similarity = fast_similarity(rating_matrix_train.to_numpy(), kind='item')\n",
    "done = time.time()\n",
    "elapsed = done-start\n",
    "print('Calculating similarities took {} seconds'.format(round(elapsed, 2)))"
   ]
  },
  {
   "cell_type": "code",
   "execution_count": 7,
   "metadata": {},
   "outputs": [
    {
     "name": "stdout",
     "output_type": "stream",
     "text": [
      "User-based CF MSE: 16.35333556329218\n",
      "Item-based CF MSE: 16.24519623725275\n",
      "Predicting took 255.35 seconds\n"
     ]
    }
   ],
   "source": [
    "from sklearn.metrics import mean_squared_error\n",
    "\n",
    "def predict_fast_simple(ratings, similarity, kind):\n",
    "    if kind == 'user':\n",
    "        return similarity.dot(ratings) / np.array([np.abs(similarity).sum(axis=1)]).T\n",
    "    elif kind == 'item':\n",
    "        return ratings.dot(similarity) / np.array([np.abs(similarity).sum(axis=1)])\n",
    "    \n",
    "def get_mse(pred, actual):\n",
    "    # Ignore nonzero terms.\n",
    "    pred = pred[actual.nonzero()].flatten()\n",
    "    actual = actual[actual.nonzero()].flatten()\n",
    "    return mean_squared_error(pred, actual)\n",
    "\n",
    "start = time.time()\n",
    "user_prediction = predict_fast_simple(rating_matrix_train, user_similarity, kind='user')\n",
    "print('User-based CF MSE: ' + str(get_mse(user_prediction, rating_matrix_test.to_numpy())))\n",
    "item_prediction = predict_fast_simple(rating_matrix_train.to_numpy(), item_similarity, kind='item')\n",
    "print('Item-based CF MSE: ' + str(get_mse(item_prediction, rating_matrix_test.to_numpy())))\n",
    "\n",
    "done = time.time()\n",
    "elapsed = done-start\n",
    "print('Predicting took {} seconds'.format(round(elapsed, 2)))"
   ]
  },
  {
   "cell_type": "markdown",
   "metadata": {},
   "source": [
    "### Recommendations based on User-Item Collaborative Filtering\n"
   ]
  },
  {
   "cell_type": "code",
   "execution_count": 28,
   "metadata": {},
   "outputs": [
    {
     "name": "stderr",
     "output_type": "stream",
     "text": [
      "100%|██████████████████████████████████████| 3968/3968 [28:55<00:00,  1.82it/s]\n"
     ]
    }
   ],
   "source": [
    "rest_11 = ['rest' + str(i) for i in range(1,1001)]\n",
    "final_df = pd.DataFrame(columns=rest_11)\n",
    "for ctr in tqdm(range(len(item_similarity))):\n",
    "    sim_scores=[]\n",
    "    for i,j in enumerate(item_similarity[ctr]):\n",
    "        k=restaurant_info_city['stars'].iloc[i]\n",
    "        sim_scores.append((restaurant_info_city['name'].iloc[i],j,k))\n",
    "    sim_scores = sorted(sim_scores, key=lambda x: (x[1],x[2]) , reverse=True)\n",
    "    a_series = pd.Series(sim_scores[0:1000], index=rest_11)\n",
    "    final_df = final_df.append(a_series, ignore_index=True)\n",
    "item_final_df = final_df"
   ]
  },
  {
   "cell_type": "markdown",
   "metadata": {},
   "source": [
    "### Recommendations based on user-user collaborative filtering"
   ]
  },
  {
   "cell_type": "code",
   "execution_count": 49,
   "metadata": {},
   "outputs": [
    {
     "name": "stderr",
     "output_type": "stream",
     "text": [
      "100%|██████████████████████████████████████| 1000/1000 [01:20<00:00, 12.54it/s]\n",
      "100%|██████████████████████████████████████| 1000/1000 [00:27<00:00, 36.34it/s]\n"
     ]
    }
   ],
   "source": [
    "rest_11 = ['rest' + str(i) for i in range(1,17)]\n",
    "final_df = pd.DataFrame(columns=rest_11)\n",
    "for ctr in tqdm(range(len(user_similarity[0:1000]))):\n",
    "    sim_scores=[]\n",
    "    for i,j in enumerate(user_similarity[ctr]):\n",
    "        sim_scores.append((i,j))\n",
    "    sim_scores = sorted(sim_scores, key=lambda x: x[1] , reverse=True)\n",
    "    a_series = pd.Series(sim_scores[0:16], index=rest_11)\n",
    "    final_df = final_df.append(a_series, ignore_index=True)\n",
    "\n",
    "rest_rec_df = pd.DataFrame(columns=['Recommendations'])\n",
    "#for idx in len(final_df)\n",
    "for idx in tqdm(range(len(final_df))):\n",
    "    list_rec = []\n",
    "    sim_users = [x[0] for x in final_df.iloc[idx][1:]]\n",
    "    for user in sim_users:\n",
    "        B = rating_matrix_train.iloc[user]\n",
    "        business_list = B[B.values>4.0].index.values.tolist()\n",
    "        for rest_id in business_list:\n",
    "            rest_name = restaurant_info_city[restaurant_info_city.business_id==rest_id]['name'].values\n",
    "            list_rec.append(rest_name[0])\n",
    "    rest_rec_df = rest_rec_df.append({'Recommendations': set(list_rec)}, ignore_index=True)    "
   ]
  },
  {
   "cell_type": "code",
   "execution_count": 50,
   "metadata": {},
   "outputs": [
    {
     "data": {
      "text/html": [
       "<div>\n",
       "<style scoped>\n",
       "    .dataframe tbody tr th:only-of-type {\n",
       "        vertical-align: middle;\n",
       "    }\n",
       "\n",
       "    .dataframe tbody tr th {\n",
       "        vertical-align: top;\n",
       "    }\n",
       "\n",
       "    .dataframe thead th {\n",
       "        text-align: right;\n",
       "    }\n",
       "</style>\n",
       "<table border=\"1\" class=\"dataframe\">\n",
       "  <thead>\n",
       "    <tr style=\"text-align: right;\">\n",
       "      <th></th>\n",
       "      <th>Recommendations</th>\n",
       "    </tr>\n",
       "  </thead>\n",
       "  <tbody>\n",
       "    <tr>\n",
       "      <th>0</th>\n",
       "      <td>{Asian Cafe, Satisfied Frog On Bell, El Bravo ...</td>\n",
       "    </tr>\n",
       "    <tr>\n",
       "      <th>1</th>\n",
       "      <td>{HEK Yeah BBQ, Carolina's Mexican Food, Rocket...</td>\n",
       "    </tr>\n",
       "    <tr>\n",
       "      <th>2</th>\n",
       "      <td>{Be Coffee + Food + Stuff}</td>\n",
       "    </tr>\n",
       "    <tr>\n",
       "      <th>3</th>\n",
       "      <td>{La Grande Orange Pizzeria, Pork On A Fork, Ta...</td>\n",
       "    </tr>\n",
       "    <tr>\n",
       "      <th>4</th>\n",
       "      <td>{Hooters}</td>\n",
       "    </tr>\n",
       "    <tr>\n",
       "      <th>5</th>\n",
       "      <td>{}</td>\n",
       "    </tr>\n",
       "    <tr>\n",
       "      <th>6</th>\n",
       "      <td>{Olive &amp; Ivy}</td>\n",
       "    </tr>\n",
       "    <tr>\n",
       "      <th>7</th>\n",
       "      <td>{The Vig Uptown}</td>\n",
       "    </tr>\n",
       "    <tr>\n",
       "      <th>8</th>\n",
       "      <td>{Culinary Dropout, Da Vang Restaurant, Pho Tha...</td>\n",
       "    </tr>\n",
       "    <tr>\n",
       "      <th>9</th>\n",
       "      <td>{Adobo Dragon, Hana Japanese Eatery}</td>\n",
       "    </tr>\n",
       "  </tbody>\n",
       "</table>\n",
       "</div>"
      ],
      "text/plain": [
       "                                     Recommendations\n",
       "0  {Asian Cafe, Satisfied Frog On Bell, El Bravo ...\n",
       "1  {HEK Yeah BBQ, Carolina's Mexican Food, Rocket...\n",
       "2                         {Be Coffee + Food + Stuff}\n",
       "3  {La Grande Orange Pizzeria, Pork On A Fork, Ta...\n",
       "4                                          {Hooters}\n",
       "5                                                 {}\n",
       "6                                      {Olive & Ivy}\n",
       "7                                   {The Vig Uptown}\n",
       "8  {Culinary Dropout, Da Vang Restaurant, Pho Tha...\n",
       "9               {Adobo Dragon, Hana Japanese Eatery}"
      ]
     },
     "execution_count": 50,
     "metadata": {},
     "output_type": "execute_result"
    }
   ],
   "source": [
    "rest_rec_df.head(10)"
   ]
  },
  {
   "cell_type": "markdown",
   "metadata": {},
   "source": [
    "# Get Recommendations"
   ]
  },
  {
   "cell_type": "code",
   "execution_count": 26,
   "metadata": {},
   "outputs": [],
   "source": [
    "from collections import OrderedDict\n",
    "\n",
    "list_rest = ['The Madison Deli','Hopdoddy Burger Bar',\"Oregano's Pizza Bistro\",\n",
    "             'Comedor Guadalajara','Black Forest Mill','Five Guys']"
   ]
  },
  {
   "cell_type": "markdown",
   "metadata": {},
   "source": [
    "### Recommendations based on user-similarity"
   ]
  },
  {
   "cell_type": "code",
   "execution_count": 37,
   "metadata": {
    "scrolled": true
   },
   "outputs": [
    {
     "name": "stdout",
     "output_type": "stream",
     "text": [
      "user\n",
      "Calculating new user similarities took 611.13 seconds\n"
     ]
    }
   ],
   "source": [
    "from collections import defaultdict\n",
    "rating_dict = defaultdict(lambda:0)\n",
    "for iter_rest in list_rest:\n",
    "    rest_id = restaurant_info_city[restaurant_info_city.name==iter_rest].business_id\n",
    "    if len(rest_id) == 1:\n",
    "        rest_id = restaurant_info_city[restaurant_info_city.name==iter_rest].business_id.iloc[0]\n",
    "        rating_dict[rest_id] = 4\n",
    "    else:\n",
    "        for instance in rest_id.values.tolist():\n",
    "            rating_dict[instance] = 4\n",
    "\n",
    "dummy = pd.DataFrame(columns = rating_matrix_train.columns)\n",
    "dummy_2 = dummy.append(rating_dict,ignore_index=True)\n",
    "dummy_2.index = ['new_user']\n",
    "rating_matrix_train_new = rating_matrix_train.append(dummy_2)\n",
    "rating_matrix_train_new.fillna(0,inplace=True)\n",
    "\n",
    "start = time.time()\n",
    "# Calculate New User Similarities\n",
    "user_similarity_new = fast_similarity(rating_matrix_train_new.to_numpy(), kind='user')\n",
    "done = time.time()\n",
    "elapsed = done-start\n",
    "print('Calculating new user similarities took {} seconds'.format(round(elapsed, 2)))\n",
    "\n",
    "rest_11 = ['rest' + str(i) for i in range(1,51)]\n",
    "sim_scores=[]\n",
    "for i,j in enumerate(user_similarity_new[-1]):\n",
    "    sim_scores.append((i,j))\n",
    "sim_scores = sorted(sim_scores, key=lambda x: x[1] , reverse=True)\n",
    "a_series = pd.Series(sim_scores[0:50], index=rest_11)\n",
    "\n",
    "list_rec_user = []\n",
    "sim_users = [x[0] for x in a_series.values[1:]]\n",
    "for user in sim_users:\n",
    "    B = rating_matrix_train_new.iloc[user]\n",
    "    business_list = B[B.values>4.0].index.values.tolist()\n",
    "    for rest_id in business_list:\n",
    "        rest_name = restaurant_info_city[restaurant_info_city.business_id==rest_id]['name'].values\n",
    "        list_rec_user.append(rest_name[0])\n",
    "list_rec_user = list(OrderedDict.fromkeys(list_rec_user)) "
   ]
  },
  {
   "cell_type": "markdown",
   "metadata": {},
   "source": [
    "### Recommendations based on item similarity"
   ]
  },
  {
   "cell_type": "code",
   "execution_count": 32,
   "metadata": {},
   "outputs": [],
   "source": [
    "recommendations_full = []\n",
    "for iter_rest in list_rest:\n",
    "    rest_id = restaurant_info_city[restaurant_info_city.name==iter_rest].business_id\n",
    "    recommendations_name = []\n",
    "    if len(rest_id) == 1:\n",
    "        rest_id = restaurant_info_city[restaurant_info_city.name==iter_rest].business_id.iloc[0]\n",
    "        rating_mat_train_trans = rating_matrix_train.T\n",
    "        location_of_rest = rating_mat_train_trans.index.get_loc(rest_id)\n",
    "        item_rec_series = item_final_df.loc[location_of_rest]\n",
    "        item_recs_df = pd.DataFrame.from_dict(dict(item_rec_series)).T\n",
    "        item_recs_list = list(item_recs_df[0])\n",
    "        recommendations_name.extend(item_recs_list)\n",
    "    else:\n",
    "        for instance in rest_id.values.tolist():\n",
    "            rating_mat_train_trans = rating_matrix_train.T\n",
    "            location_of_rest = rating_mat_train_trans.index.get_loc(instance)\n",
    "            item_rec_series = item_final_df.loc[location_of_rest]\n",
    "            item_recs_df = pd.DataFrame.from_dict(dict(item_rec_series)).T\n",
    "            item_recs_list = list(item_recs_df[0])\n",
    "            recommendations_name.extend(item_recs_list)\n",
    "    recommendations_full.extend(recommendations_name)\n",
    "recommendations_full = list(OrderedDict.fromkeys(recommendations_full))    "
   ]
  },
  {
   "cell_type": "code",
   "execution_count": 42,
   "metadata": {},
   "outputs": [],
   "source": [
    "list_rec_user.extend(recommendations_full)\n",
    "list_rec_user = list(OrderedDict.fromkeys(list_rec_user))"
   ]
  },
  {
   "cell_type": "code",
   "execution_count": 43,
   "metadata": {},
   "outputs": [
    {
     "name": "stdout",
     "output_type": "stream",
     "text": [
      "\n",
      "2599 recommendations found\n",
      "\n",
      "\n",
      "Here are some recommendations:\n",
      "\n",
      "['Hopdoddy Burger Bar', 'Comedor Guadalajara', 'Dilla Libre Cantina', 'Five Guys', \"Oregano's Pizza Bistro\"]\n",
      "\n",
      "Do you want more recommendations? (Y/N) \n",
      "Y\n",
      "\n",
      "Here are some recommendations:\n",
      "\n",
      "['Wicked Bakery', 'Casita Del Mar', 'Z-Grill', 'Yama Sushi House', 'Sushi Sonora']\n",
      "\n",
      "Do you want more recommendations? (Y/N) \n",
      "Y\n",
      "\n",
      "Here are some recommendations:\n",
      "\n",
      "['Culichi Sushi', 'Tonys Original Burger Factory', \"Fiorella's\", \"Rolberto's\", 'Meritage - An Urban Tavern']\n",
      "\n",
      "Do you want more recommendations? (Y/N) \n",
      "N\n",
      "\n",
      "Thank you. Enjoy your next Restaurant!\n"
     ]
    }
   ],
   "source": [
    "print('\\n{} recommendations found\\n'.format(len(list_rec_user)))\n",
    "print_flag = True\n",
    "counter = 0\n",
    "while print_flag:\n",
    "    try:\n",
    "        print('\\nHere are some recommendations:\\n')\n",
    "        print(list_rec_user[counter:counter+5])\n",
    "        counter = counter+5\n",
    "        flag = input('\\nDo you want more recommendations? (Y/N) \\n')\n",
    "        if flag == 'Y':\n",
    "            continue\n",
    "        else:\n",
    "            print('\\nThank you. Enjoy your next Restaurant!')\n",
    "            print_flag = False\n",
    "    except:\n",
    "        print('\\n\\nEnd of Recommendation List. Please choose from available recommendations or change preferences')"
   ]
  },
  {
   "cell_type": "code",
   "execution_count": null,
   "metadata": {},
   "outputs": [],
   "source": []
  }
 ],
 "metadata": {
  "kernelspec": {
   "display_name": "Python 3",
   "language": "python",
   "name": "python3"
  },
  "language_info": {
   "codemirror_mode": {
    "name": "ipython",
    "version": 3
   },
   "file_extension": ".py",
   "mimetype": "text/x-python",
   "name": "python",
   "nbconvert_exporter": "python",
   "pygments_lexer": "ipython3",
   "version": "3.7.3"
  }
 },
 "nbformat": 4,
 "nbformat_minor": 2
}
