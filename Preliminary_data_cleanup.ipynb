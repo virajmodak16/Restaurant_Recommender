{
 "cells": [
  {
   "cell_type": "markdown",
   "metadata": {},
   "source": [
    "# This notebook is just for preliminary data clean-up, which takes in the raw JSON data and converts it into 3 readable csv files:\n",
    "#### 1. Information about businesses which are restaurants\n",
    "#### 2. Information about reviews for those restaurants\n",
    "#### 3. Information about users which have reviewed those restaurants.\n",
    "\n",
    "## Subsequent data wrangling will be on these \"new\" files"
   ]
  },
  {
   "cell_type": "code",
   "execution_count": 6,
   "metadata": {},
   "outputs": [],
   "source": [
    "import pandas as pd\n",
    "import json\n",
    "from pandas.io.json import json_normalize\n",
    "import time"
   ]
  },
  {
   "cell_type": "markdown",
   "metadata": {},
   "source": [
    "## Read information about business"
   ]
  },
  {
   "cell_type": "code",
   "execution_count": 10,
   "metadata": {},
   "outputs": [
    {
     "name": "stdout",
     "output_type": "stream",
     "text": [
      "<class 'pandas.core.frame.DataFrame'>\n",
      "RangeIndex: 192609 entries, 0 to 192608\n",
      "Data columns (total 14 columns):\n",
      "address         192609 non-null object\n",
      "attributes      163773 non-null object\n",
      "business_id     192609 non-null object\n",
      "categories      192127 non-null object\n",
      "city            192609 non-null object\n",
      "hours           147779 non-null object\n",
      "is_open         192609 non-null int64\n",
      "latitude        192609 non-null float64\n",
      "longitude       192609 non-null float64\n",
      "name            192609 non-null object\n",
      "postal_code     192609 non-null object\n",
      "review_count    192609 non-null int64\n",
      "stars           192609 non-null float64\n",
      "state           192609 non-null object\n",
      "dtypes: float64(3), int64(2), object(9)\n",
      "memory usage: 20.6+ MB\n",
      "Reading business info took 7.43 seconds\n"
     ]
    }
   ],
   "source": [
    "start = time.time()\n",
    "business_info = pd.read_json('F:\\Viraj_work\\misc_2\\yelp_academic_dataset_business.json', lines = True)\n",
    "business_info.info()\n",
    "done = time.time()\n",
    "elapsed = done-start\n",
    "print('Reading business info took {} seconds'.format(round(elapsed, 2)))"
   ]
  },
  {
   "cell_type": "markdown",
   "metadata": {},
   "source": [
    "## Read information about user"
   ]
  },
  {
   "cell_type": "code",
   "execution_count": 9,
   "metadata": {},
   "outputs": [
    {
     "name": "stdout",
     "output_type": "stream",
     "text": [
      "<class 'pandas.core.frame.DataFrame'>\n",
      "RangeIndex: 1637138 entries, 0 to 1637137\n",
      "Data columns (total 22 columns):\n",
      "average_stars         1637138 non-null float64\n",
      "compliment_cool       1637138 non-null int64\n",
      "compliment_cute       1637138 non-null int64\n",
      "compliment_funny      1637138 non-null int64\n",
      "compliment_hot        1637138 non-null int64\n",
      "compliment_list       1637138 non-null int64\n",
      "compliment_more       1637138 non-null int64\n",
      "compliment_note       1637138 non-null int64\n",
      "compliment_photos     1637138 non-null int64\n",
      "compliment_plain      1637138 non-null int64\n",
      "compliment_profile    1637138 non-null int64\n",
      "compliment_writer     1637138 non-null int64\n",
      "cool                  1637138 non-null int64\n",
      "elite                 1637138 non-null object\n",
      "fans                  1637138 non-null int64\n",
      "friends               1637138 non-null object\n",
      "funny                 1637138 non-null int64\n",
      "name                  1637138 non-null object\n",
      "review_count          1637138 non-null int64\n",
      "useful                1637138 non-null int64\n",
      "user_id               1637138 non-null object\n",
      "yelping_since         1637138 non-null object\n",
      "dtypes: float64(1), int64(16), object(5)\n",
      "memory usage: 274.8+ MB\n",
      "Reading user info took 78.35 seconds\n"
     ]
    }
   ],
   "source": [
    "start = time.time()\n",
    "user_info = pd.read_json('F:\\Viraj_work\\misc_2\\yelp_academic_dataset_user.json', lines = True)\n",
    "user_info.info()\n",
    "done = time.time()\n",
    "elapsed = done-start\n",
    "print('Reading user info took {} seconds'.format(round(elapsed, 2)))"
   ]
  },
  {
   "cell_type": "markdown",
   "metadata": {},
   "source": [
    "## Read information about review"
   ]
  },
  {
   "cell_type": "code",
   "execution_count": 11,
   "metadata": {},
   "outputs": [
    {
     "name": "stdout",
     "output_type": "stream",
     "text": [
      "<class 'pandas.core.frame.DataFrame'>\n",
      "RangeIndex: 6685900 entries, 0 to 6685899\n",
      "Data columns (total 9 columns):\n",
      "business_id    object\n",
      "cool           int64\n",
      "date           datetime64[ns]\n",
      "funny          int64\n",
      "review_id      object\n",
      "stars          int64\n",
      "text           object\n",
      "useful         int64\n",
      "user_id        object\n",
      "dtypes: datetime64[ns](1), int64(4), object(4)\n",
      "memory usage: 459.1+ MB\n",
      "Reading review info took 166.37 seconds\n"
     ]
    }
   ],
   "source": [
    "start = time.time()\n",
    "review_info = pd.read_json('F:\\Viraj_work\\misc_2\\yelp_academic_dataset_review.json', lines = True)\n",
    "review_info.info()\n",
    "done = time.time()\n",
    "elapsed = done-start\n",
    "print('Reading review info took {} seconds'.format(round(elapsed, 2)))"
   ]
  },
  {
   "cell_type": "markdown",
   "metadata": {},
   "source": [
    "## FIlter data to extract information for restaurants"
   ]
  },
  {
   "cell_type": "code",
   "execution_count": 38,
   "metadata": {
    "scrolled": false
   },
   "outputs": [
    {
     "name": "stdout",
     "output_type": "stream",
     "text": [
      "<class 'pandas.core.frame.DataFrame'>\n",
      "Int64Index: 4201684 entries, 3 to 6685899\n",
      "Data columns (total 9 columns):\n",
      "business_id    object\n",
      "cool           int64\n",
      "date           datetime64[ns]\n",
      "funny          int64\n",
      "review_id      object\n",
      "stars          int64\n",
      "text           object\n",
      "useful         int64\n",
      "user_id        object\n",
      "dtypes: datetime64[ns](1), int64(4), object(4)\n",
      "memory usage: 320.6+ MB\n",
      "<class 'pandas.core.frame.DataFrame'>\n",
      "Int64Index: 1148098 entries, 0 to 1637136\n",
      "Data columns (total 22 columns):\n",
      "average_stars         1148098 non-null float64\n",
      "compliment_cool       1148098 non-null int64\n",
      "compliment_cute       1148098 non-null int64\n",
      "compliment_funny      1148098 non-null int64\n",
      "compliment_hot        1148098 non-null int64\n",
      "compliment_list       1148098 non-null int64\n",
      "compliment_more       1148098 non-null int64\n",
      "compliment_note       1148098 non-null int64\n",
      "compliment_photos     1148098 non-null int64\n",
      "compliment_plain      1148098 non-null int64\n",
      "compliment_profile    1148098 non-null int64\n",
      "compliment_writer     1148098 non-null int64\n",
      "cool                  1148098 non-null int64\n",
      "elite                 1148098 non-null object\n",
      "fans                  1148098 non-null int64\n",
      "friends               1148098 non-null object\n",
      "funny                 1148098 non-null int64\n",
      "name                  1148098 non-null object\n",
      "review_count          1148098 non-null int64\n",
      "useful                1148098 non-null int64\n",
      "user_id               1148098 non-null object\n",
      "yelping_since         1148098 non-null object\n",
      "dtypes: float64(1), int64(16), object(5)\n",
      "memory usage: 201.5+ MB\n"
     ]
    }
   ],
   "source": [
    "mask_restaurant = business_info.categories.str.contains('Restaurants',na=False)\n",
    "\n",
    "restaurant_info = business_info[mask_restaurant]\n",
    "review_info_for_restaurants = review_info[review_info.business_id.isin(restaurant_info.business_id)]\n",
    "user_info_for_restaurants = user_info[user_info.user_id.isin(review_info_for_restaurants.user_id)]"
   ]
  },
  {
   "cell_type": "code",
   "execution_count": 46,
   "metadata": {},
   "outputs": [],
   "source": [
    "restaurant_info = restaurant_info[['business_id','categories','city','name','state','review_count','stars']]\n",
    "restaurant_info.to_csv('restaurant_info.csv')\n",
    "user_info_for_restaurants.to_csv('user_info_for_restaurants.csv')\n",
    "review_info_for_restaurants.to_csv('review_info_for_restaurants.csv')"
   ]
  },
  {
   "cell_type": "code",
   "execution_count": 2,
   "metadata": {},
   "outputs": [],
   "source": [
    "from tqdm import tqdm"
   ]
  },
  {
   "cell_type": "code",
   "execution_count": null,
   "metadata": {},
   "outputs": [],
   "source": []
  }
 ],
 "metadata": {
  "kernelspec": {
   "display_name": "Python 3",
   "language": "python",
   "name": "python3"
  },
  "language_info": {
   "codemirror_mode": {
    "name": "ipython",
    "version": 3
   },
   "file_extension": ".py",
   "mimetype": "text/x-python",
   "name": "python",
   "nbconvert_exporter": "python",
   "pygments_lexer": "ipython3",
   "version": "3.7.3"
  }
 },
 "nbformat": 4,
 "nbformat_minor": 2
}
